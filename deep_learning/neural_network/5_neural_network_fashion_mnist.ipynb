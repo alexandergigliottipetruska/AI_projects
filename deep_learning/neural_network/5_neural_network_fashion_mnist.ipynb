{
  "nbformat": 4,
  "nbformat_minor": 0,
  "metadata": {
    "colab": {
      "provenance": []
    },
    "kernelspec": {
      "name": "python3",
      "display_name": "Python 3"
    },
    "language_info": {
      "name": "python"
    }
  },
  "cells": [
    {
      "cell_type": "markdown",
      "source": [
        "# Fashion MNIST Neural Network\n",
        "\n",
        "Undertaking a classification task, the aim of this project is to develop skills in building neural networks from scratch, image preprocessing, and data augmentation. The dataset used is the Fashion MNIST dataset, which requires classifying instances into one of 10 different classes representing different clothing articles.\n",
        "\n",
        "The key learning goals of this project understanding backpropagation, loss, training loop, and gradients. Nevertheless, other features will be added that will develop other skills as well.\n",
        "\n",
        "**Main Objectives**:\n",
        "- <u>Importing the Data</u>\n",
        "- <u>Train/val/test split</u>\n",
        "- <u>Exploratory Data Analysis (EDA) and Visualization</u>\n",
        "- Data Augmentation\n",
        "- <u>Preprocessing the Data</u>\n",
        "- <u> Creating TensorDatasets and DataLoaders</u>\n",
        "- <u>Building the model</u>\n",
        "- <u>Creating the Training Loop</u>\n",
        "  - <u>Add accuracy metric</u>\n",
        "- <u>Hyperparameter Tuning</u>\n",
        "  - <u>Add new layers (batch normalization, dropout, etc.)</u>\n",
        "- <u>Test set evaluation</u>\n",
        "- Metrics for performance - F1 score, precision, recall, confusion_matrix.\n",
        "- Finding out what kind of images the model's most confident wrong and correct predictions corresponded to, as well as it's most uncertain predictions.\n",
        "\n",
        "**Extra**:\n",
        "- Implement a **Neural Network** from scratch.\n",
        "- The network must have 1 input layer, 2 hidden layers, and an output layer.\n",
        "- Implement the forward propagation and backpropagation algorithms.\n",
        "- Use mini-batch gradient descent.\n",
        "- Implement the Adam optimizer, dropout, and layer normalization.\n",
        "- Add zerograd\n",
        "- Regularization with weight decay.\n",
        "- Softmax + Categorical Cross-Entropy\n",
        "- Early Stopping\n",
        "- Learning rate scheduler and momentum\n",
        "- Visualize loss curves\n",
        "- Implement ReLU\n",
        "- Modular design: Linear, ReLU, Dropout, and Softmax as separate classes.\n"
      ],
      "metadata": {
        "id": "DRnffAxX96MN"
      }
    },
    {
      "cell_type": "code",
      "source": [
        "import numpy as np\n",
        "import matplotlib.pyplot as plt\n",
        "import torch\n",
        "import torch.nn as nn\n",
        "import seaborn as sns\n",
        "import pandas as pd"
      ],
      "metadata": {
        "id": "KPTKkriF-ESN"
      },
      "execution_count": 1,
      "outputs": []
    },
    {
      "cell_type": "markdown",
      "source": [
        "## Neural Network Implementation\n",
        "\n",
        "The implementation of a non-modular **Neural Network**. This neural network will consist of an input layer, a hidden layers, and an output layer. Forward pass and backpropagation will be based on this model architecture, but this will change with the modular setup.\n",
        "\n",
        "Mini-batch gradient descent with Adam will be used for optimization, while dropout and weight decay will be used as regularization.\n",
        "\n",
        "Early stopping, learning rate scheduler, and momentum will all be used to help convergence. Layer normalization will be added as well.\n",
        "\n",
        "Lastly, the softmax and ReLU activation functions have been implemented.\n",
        "\n",
        "For a single datapoint, here are the forward propagation and backpropagation algorithms:\n",
        "\n",
        "**Forward Propagation** (datapoint):\n",
        "$$m = W^{(1)}x + b^{(1)}$$\n",
        "$$h = ReLU(m)$$\n",
        "$$z = W^{(2)}h + b^{(2)}$$\n",
        "$$y = softmax(z)$$\n",
        "$$L = L_{CE}(y, t)$$<br>\n",
        "\n",
        "**Backpropagation** (datapoint):\n",
        "$$\\overline{z}=y-t$$\n",
        "$$\\overline{W^{(2)}}=\\overline{z}(h)^T$$\n",
        "$$\\overline{b^{(2)}}=\\overline{z}$$\n",
        "$$\\overline{H}=\\overline{z}W^{(2)}$$\n",
        "$$\\overline{M}=\\overline{h}*ReLU'(m)$$\n",
        "$$\\overline{W^{(1)}}=\\overline{m}(x)^T$$\n",
        "$$\\overline{b^{(1)}}=\\overline{m}$$\n",
        "\n",
        "For a batch, the algorithms are formulated as follows:\n",
        "\n",
        "**Forward Propagation**:\n",
        "$$M = X(W^{(1)})^T+b^{(1)}$$\n",
        "$$H = ReLU(M)$$\n",
        "$$Z = H(W^{(2)})^T+b^{(2)}$$\n",
        "$$Y = softmax(Z)$$\n",
        "$$E = \\frac{1}{N}\\sum_{i}L_{CE}(y^{(i)}, t^{(i)})$$\n",
        "\n",
        "**Backpropagation:**\n",
        "$$\\overline{Z}=\\frac{1}{N}(Y-T)$$\n",
        "$$\\overline{W^{(2)}}=(\\overline{Z})^TH$$\n",
        "$$\\overline{b^{(2)}}=(\\overline{Z})^T1$$\n",
        "$$\\overline{H}=\\overline{Z}W^{(2)}$$\n",
        "$$\\overline{M}=\\overline{H}*ReLU'(M)$$\n",
        "$$\\overline{W^{(1)}}=(\\overline{M})^TX$$\n",
        "$$\\overline{b^{(1)}}=(\\overline{M})^T1$$\n"
      ],
      "metadata": {
        "id": "hrAkrkEC8MvK"
      }
    },
    {
      "cell_type": "code",
      "source": [
        "class NeuralNetwork():\n",
        "  \"\"\"\n",
        "  This is a custom implementation of a neural network with an input layer, a hidden layers, and an output layer.\n",
        "\n",
        "  Parameters:\n",
        "  - self.dropout\n",
        "  - self.learning_rate:\n",
        "  - self.h: number of units in first hidden layer\n",
        "  - self.regularization: specify the kind of regularization (TO DO)\n",
        "  - self.lamb: the regularization strength\n",
        "  - self.batch_size: the mini-batch size\n",
        "  - self.momentum:\n",
        "  - self.epochs: the number of epochs to train for\n",
        "  - self.W1: the weights for the first hidden layer\n",
        "  - self.W2: the weights for the second hidden layer\n",
        "  - self.b1: the bias for the first hidden layer\n",
        "  - self.b2: the bias for the second hidden layer\n",
        "  - self.H: stores the value of the second hidden layer for backprop\n",
        "  - self.M: stores the value of the first hidden layer for backprop\n",
        "\n",
        "  \"\"\"\n",
        "  def __init__(self, dropout=0.8, learning_rate=0.001, h1=64, regularization=None, lamb=0.2, batch_size=32, momentum=0.9, epochs=10, clipping=1.0):\n",
        "    self.W1 = None\n",
        "    self.W2 = None\n",
        "    self.b1 = None\n",
        "    self.b2 = None\n",
        "    self.momentum = momentum\n",
        "    self.batch_size = batch_size\n",
        "    self.dropout = dropout\n",
        "    self.clipping = clipping\n",
        "    self.alpha = learning_rate\n",
        "    self.regularization = regularization\n",
        "    self.lamb = lamb\n",
        "    self.h1 = h1 # no. of units in the hidden layer\n",
        "    self.epochs = epochs\n",
        "    self.H = None # hidden layer\n",
        "    self.M = None # input layer\n",
        "\n",
        "  def fit(self, X, T):\n",
        "    N = X.shape[0]\n",
        "\n",
        "    # Convert to numpy\n",
        "    if isinstance(X, pd.DataFrame):\n",
        "      X = X.values\n",
        "    else:\n",
        "      X = X\n",
        "\n",
        "    if isinstance(T, pd.DataFrame):\n",
        "      T = T.values\n",
        "    else:\n",
        "      T = T\n",
        "\n",
        "    # std for he initialization\n",
        "    c1 = self.he_initialization(X.shape[0])\n",
        "\n",
        "    # constant for xavier initialization\n",
        "    c2 = self.xavier_initialization(self.h1, T.shape[1])\n",
        "\n",
        "    # Weight initialization\n",
        "    self.W1 = np.random.normal(loc=0, scale=c1, size=(self.h1, X.shape[1]))\n",
        "    self.W2 = np.random.uniform(low=-c2, high=c2, size=(T.shape[1], self.h1))\n",
        "    self.b1 = np.zeros((self.h1, 1)).flatten()\n",
        "    self.b2 = np.zeros((10, 1)).flatten()\n",
        "\n",
        "\n",
        "    # Forward propagation -- add training loop here\n",
        "    for epoch in range(self.epochs):\n",
        "      random_indices = np.random.permutation(N)\n",
        "\n",
        "      X_shuffle = X[random_indices]\n",
        "      T_shuffle = T[random_indices]\n",
        "\n",
        "      batches = self.mini_batch(T_shuffle, X_shuffle, N)\n",
        "      total_loss = 0\n",
        "\n",
        "      # Get mini-batches for tdraining\n",
        "      for key, value in batches.items():\n",
        "        x_batch = value[0]\n",
        "        t_batch = value[1]\n",
        "        # Forward propagation\n",
        "        y_batch = self.forward_prop(x_batch)\n",
        "\n",
        "        # Compute loss\n",
        "        loss = self.compute_loss(y_batch, t_batch)\n",
        "        total_loss += loss\n",
        "\n",
        "        # Backpropagate loss\n",
        "        grads = self.backpropagation(x_batch, y_batch, t_batch, loss)\n",
        "\n",
        "        # Clip gradients\n",
        "        W1_bar, W2_bar, b1_bar, b2_bar = self.norm_gradient_clipping(grads)\n",
        "\n",
        "        # Gradient descent to update parameters\n",
        "        self.gradient_descent(W1_bar, W2_bar, b1_bar, b2_bar)\n",
        "\n",
        "\n",
        "      epoch_loss = (total_loss / len(batches)).flatten()\n",
        "\n",
        "      print(\"The Cross-Entropy loss at epoch {0} is {1:.4f}\".format(epoch, epoch_loss[0]))\n",
        "\n",
        "\n",
        "  def forward_prop(self, X):\n",
        "    # Forward pass\n",
        "    M = X@(self.W1.T) + self.b1\n",
        "    H = self.relu(M)\n",
        "    Z = H@(self.W2.T) + self.b2\n",
        "    Y = self.softmax(Z)\n",
        "\n",
        "    # Store M and H\n",
        "    self.H = H\n",
        "    self.M = M\n",
        "\n",
        "    return Y\n",
        "\n",
        "  def backpropagation(self, X, Y, T, loss):\n",
        "    grads = []\n",
        "    N = X.shape[0]\n",
        "    # Backpropagation\n",
        "    Z_bar = (1/N)*(Y - T)\n",
        "    W2_bar = (Z_bar.T)@self.H\n",
        "    b2_bar = Z_bar\n",
        "    H_bar = (Z_bar)@self.W2\n",
        "    M_bar = H_bar*self.relu_derivative(self.M)\n",
        "    W1_bar = (M_bar.T)@X\n",
        "    b1_bar = M_bar\n",
        "\n",
        "    grads.extend([Z_bar, W2_bar, b2_bar, H_bar, M_bar, W1_bar, b1_bar])\n",
        "\n",
        "    return grads\n",
        "\n",
        "  def norm_gradient_clipping(self, gradients):\n",
        "    clipped = []\n",
        "    for grad in gradients:\n",
        "      norm = np.sqrt(np.sum(grad**2))\n",
        "      if norm >= self.clipping:\n",
        "        grad = self.clipping*grad/norm\n",
        "\n",
        "      clipped.append(grad)\n",
        "\n",
        "    return clipped[5], clipped[1], clipped[6], clipped[2]\n",
        "\n",
        "  def gradient_descent(self, W1_bar, W2_bar, b1_bar, b2_bar):\n",
        "    self.W1 = self.W1 - self.alpha*W1_bar\n",
        "    self.W2 = self.W2 - self.alpha*W2_bar\n",
        "    self.b1 = self.b1 - self.alpha*np.sum(b1_bar, axis=0)\n",
        "    self.b2 = self.b2 - self.alpha*np.sum(b2_bar, axis=0)\n",
        "\n",
        "  def compute_loss(self, Y, T):\n",
        "    # get N\n",
        "    N = Y.shape[0]\n",
        "    # Computes cost - categorical cross-entropy\n",
        "    return (1/N)*(-(T.T)@np.log(Y)) ### change, assume T is normal\n",
        "\n",
        "  def Adam_opitimizer(self):\n",
        "    pass\n",
        "\n",
        "  def xavier_initialization(self, n_inputs, n_outputs):\n",
        "    return np.sqrt(6/(n_inputs+n_outputs))\n",
        "\n",
        "  def he_initialization(self, n_inputs):\n",
        "    return np.sqrt(2/n_inputs)\n",
        "\n",
        "  def predict(self, X_new):\n",
        "    M = X_new@(self.W1.T) + self.b1\n",
        "    H = self.relu(M)\n",
        "    Z = H@(self.W2.T) + self.b2\n",
        "    Y = self.softmax(Z)\n",
        "    return np.argmax(Y, axis=1)\n",
        "\n",
        "  def relu_derivative(self, o):\n",
        "    return np.piecewise(o, [o <= 0, o > 0], [0, 1])\n",
        "\n",
        "  def relu(self, o):\n",
        "    return np.maximum(0, o)\n",
        "\n",
        "  def softmax(self, o):\n",
        "    # To prevent overflow\n",
        "    o_max = np.max(o, axis=1).reshape(-1, 1)\n",
        "    o_shifted = o - o_max\n",
        "\n",
        "    # Softmax function implementation, the keepdims is used for broadcasting purposes.\n",
        "    z =  np.exp(o_shifted) / np.sum(np.exp(o_shifted), axis=1, keepdims=True)\n",
        "    return z\n",
        "\n",
        "  def mini_batch(self, t, X, N):\n",
        "    batches = {}\n",
        "    n_batches = N // self.batch_size\n",
        "    # Create batches\n",
        "    for i in range(n_batches):\n",
        "        batches[i] = [X[i*self.batch_size:(i+1)*self.batch_size], t[i*self.batch_size:(i+1)*self.batch_size]]\n",
        "\n",
        "    # Last batch should be compiled into its own batch, even if it's less than batch size\n",
        "    if N % self.batch_size != 0 :\n",
        "        batches[n_batches] = [X[n_batches*self.batch_size:], t[n_batches*self.batch_size:]]\n",
        "\n",
        "    return batches\n",
        "\n",
        "  def layer_normalization(self):\n",
        "    pass\n",
        "\n",
        "  def batch_normalization(self):\n",
        "    pass\n",
        "\n",
        "  def dropout(self):\n",
        "    pass\n",
        "\n"
      ],
      "metadata": {
        "id": "Spl0bU8cAqtZ"
      },
      "execution_count": 80,
      "outputs": []
    },
    {
      "cell_type": "code",
      "source": [
        "\n",
        "\n",
        "model_implemented = NeuralNetwork()\n",
        "model_implemented.fit(X_train_scale, y_train)"
      ],
      "metadata": {
        "colab": {
          "base_uri": "https://localhost:8080/"
        },
        "id": "Yhg_HDVKYwpd",
        "outputId": "1c3d06fc-b55a-4307-a317-6164becc121b"
      },
      "execution_count": 81,
      "outputs": [
        {
          "output_type": "stream",
          "name": "stdout",
          "text": [
            "The Cross-Entropy loss at epoch 0 is 0.2334\n",
            "The Cross-Entropy loss at epoch 1 is 0.1826\n",
            "The Cross-Entropy loss at epoch 2 is 0.1458\n",
            "The Cross-Entropy loss at epoch 3 is 0.1229\n",
            "The Cross-Entropy loss at epoch 4 is 0.1082\n",
            "The Cross-Entropy loss at epoch 5 is 0.0982\n",
            "The Cross-Entropy loss at epoch 6 is 0.0915\n",
            "The Cross-Entropy loss at epoch 7 is 0.0868\n",
            "The Cross-Entropy loss at epoch 8 is 0.0820\n",
            "The Cross-Entropy loss at epoch 9 is 0.0791\n"
          ]
        }
      ]
    },
    {
      "cell_type": "markdown",
      "source": [
        "## Modular Implementation of a Neural Network\n",
        "\n",
        "Divides the previous implementation k into several classes that can be combined to form the entire network. The main purpose of this is start writing modular code and create reusable classes for further projects."
      ],
      "metadata": {
        "id": "TwlLZ61Xp0Gy"
      }
    },
    {
      "cell_type": "code",
      "source": [],
      "metadata": {
        "id": "kRXAdADc9LV7"
      },
      "execution_count": 2,
      "outputs": []
    },
    {
      "cell_type": "markdown",
      "source": [
        "## Importing the Data"
      ],
      "metadata": {
        "id": "u5GAHLEJqCs3"
      }
    },
    {
      "cell_type": "code",
      "source": [
        "train_data = pd.read_csv(\"/content/drive/MyDrive/Colab Notebooks/Projects/fashion_mnist/fashion-mnist_test.csv\")\n",
        "test_data = pd.read_csv(\"/content/drive/MyDrive/Colab Notebooks/Projects/fashion_mnist/fashion-mnist_train.csv\")"
      ],
      "metadata": {
        "id": "5l6P7TD5qDv-"
      },
      "execution_count": 3,
      "outputs": []
    },
    {
      "cell_type": "code",
      "source": [
        "train_data.head()"
      ],
      "metadata": {
        "colab": {
          "base_uri": "https://localhost:8080/",
          "height": 235
        },
        "id": "2nL0F45mHzVL",
        "outputId": "cf60445c-2401-47eb-b76d-cc8d3e6643f6"
      },
      "execution_count": 4,
      "outputs": [
        {
          "output_type": "execute_result",
          "data": {
            "text/plain": [
              "   label  pixel1  pixel2  pixel3  pixel4  pixel5  pixel6  pixel7  pixel8  \\\n",
              "0      0       0       0       0       0       0       0       0       9   \n",
              "1      1       0       0       0       0       0       0       0       0   \n",
              "2      2       0       0       0       0       0       0      14      53   \n",
              "3      2       0       0       0       0       0       0       0       0   \n",
              "4      3       0       0       0       0       0       0       0       0   \n",
              "\n",
              "   pixel9  ...  pixel775  pixel776  pixel777  pixel778  pixel779  pixel780  \\\n",
              "0       8  ...       103        87        56         0         0         0   \n",
              "1       0  ...        34         0         0         0         0         0   \n",
              "2      99  ...         0         0         0         0        63        53   \n",
              "3       0  ...       137       126       140         0       133       224   \n",
              "4       0  ...         0         0         0         0         0         0   \n",
              "\n",
              "   pixel781  pixel782  pixel783  pixel784  \n",
              "0         0         0         0         0  \n",
              "1         0         0         0         0  \n",
              "2        31         0         0         0  \n",
              "3       222        56         0         0  \n",
              "4         0         0         0         0  \n",
              "\n",
              "[5 rows x 785 columns]"
            ],
            "text/html": [
              "\n",
              "  <div id=\"df-ef98dda1-0103-4d85-a510-7c626b0a691b\" class=\"colab-df-container\">\n",
              "    <div>\n",
              "<style scoped>\n",
              "    .dataframe tbody tr th:only-of-type {\n",
              "        vertical-align: middle;\n",
              "    }\n",
              "\n",
              "    .dataframe tbody tr th {\n",
              "        vertical-align: top;\n",
              "    }\n",
              "\n",
              "    .dataframe thead th {\n",
              "        text-align: right;\n",
              "    }\n",
              "</style>\n",
              "<table border=\"1\" class=\"dataframe\">\n",
              "  <thead>\n",
              "    <tr style=\"text-align: right;\">\n",
              "      <th></th>\n",
              "      <th>label</th>\n",
              "      <th>pixel1</th>\n",
              "      <th>pixel2</th>\n",
              "      <th>pixel3</th>\n",
              "      <th>pixel4</th>\n",
              "      <th>pixel5</th>\n",
              "      <th>pixel6</th>\n",
              "      <th>pixel7</th>\n",
              "      <th>pixel8</th>\n",
              "      <th>pixel9</th>\n",
              "      <th>...</th>\n",
              "      <th>pixel775</th>\n",
              "      <th>pixel776</th>\n",
              "      <th>pixel777</th>\n",
              "      <th>pixel778</th>\n",
              "      <th>pixel779</th>\n",
              "      <th>pixel780</th>\n",
              "      <th>pixel781</th>\n",
              "      <th>pixel782</th>\n",
              "      <th>pixel783</th>\n",
              "      <th>pixel784</th>\n",
              "    </tr>\n",
              "  </thead>\n",
              "  <tbody>\n",
              "    <tr>\n",
              "      <th>0</th>\n",
              "      <td>0</td>\n",
              "      <td>0</td>\n",
              "      <td>0</td>\n",
              "      <td>0</td>\n",
              "      <td>0</td>\n",
              "      <td>0</td>\n",
              "      <td>0</td>\n",
              "      <td>0</td>\n",
              "      <td>9</td>\n",
              "      <td>8</td>\n",
              "      <td>...</td>\n",
              "      <td>103</td>\n",
              "      <td>87</td>\n",
              "      <td>56</td>\n",
              "      <td>0</td>\n",
              "      <td>0</td>\n",
              "      <td>0</td>\n",
              "      <td>0</td>\n",
              "      <td>0</td>\n",
              "      <td>0</td>\n",
              "      <td>0</td>\n",
              "    </tr>\n",
              "    <tr>\n",
              "      <th>1</th>\n",
              "      <td>1</td>\n",
              "      <td>0</td>\n",
              "      <td>0</td>\n",
              "      <td>0</td>\n",
              "      <td>0</td>\n",
              "      <td>0</td>\n",
              "      <td>0</td>\n",
              "      <td>0</td>\n",
              "      <td>0</td>\n",
              "      <td>0</td>\n",
              "      <td>...</td>\n",
              "      <td>34</td>\n",
              "      <td>0</td>\n",
              "      <td>0</td>\n",
              "      <td>0</td>\n",
              "      <td>0</td>\n",
              "      <td>0</td>\n",
              "      <td>0</td>\n",
              "      <td>0</td>\n",
              "      <td>0</td>\n",
              "      <td>0</td>\n",
              "    </tr>\n",
              "    <tr>\n",
              "      <th>2</th>\n",
              "      <td>2</td>\n",
              "      <td>0</td>\n",
              "      <td>0</td>\n",
              "      <td>0</td>\n",
              "      <td>0</td>\n",
              "      <td>0</td>\n",
              "      <td>0</td>\n",
              "      <td>14</td>\n",
              "      <td>53</td>\n",
              "      <td>99</td>\n",
              "      <td>...</td>\n",
              "      <td>0</td>\n",
              "      <td>0</td>\n",
              "      <td>0</td>\n",
              "      <td>0</td>\n",
              "      <td>63</td>\n",
              "      <td>53</td>\n",
              "      <td>31</td>\n",
              "      <td>0</td>\n",
              "      <td>0</td>\n",
              "      <td>0</td>\n",
              "    </tr>\n",
              "    <tr>\n",
              "      <th>3</th>\n",
              "      <td>2</td>\n",
              "      <td>0</td>\n",
              "      <td>0</td>\n",
              "      <td>0</td>\n",
              "      <td>0</td>\n",
              "      <td>0</td>\n",
              "      <td>0</td>\n",
              "      <td>0</td>\n",
              "      <td>0</td>\n",
              "      <td>0</td>\n",
              "      <td>...</td>\n",
              "      <td>137</td>\n",
              "      <td>126</td>\n",
              "      <td>140</td>\n",
              "      <td>0</td>\n",
              "      <td>133</td>\n",
              "      <td>224</td>\n",
              "      <td>222</td>\n",
              "      <td>56</td>\n",
              "      <td>0</td>\n",
              "      <td>0</td>\n",
              "    </tr>\n",
              "    <tr>\n",
              "      <th>4</th>\n",
              "      <td>3</td>\n",
              "      <td>0</td>\n",
              "      <td>0</td>\n",
              "      <td>0</td>\n",
              "      <td>0</td>\n",
              "      <td>0</td>\n",
              "      <td>0</td>\n",
              "      <td>0</td>\n",
              "      <td>0</td>\n",
              "      <td>0</td>\n",
              "      <td>...</td>\n",
              "      <td>0</td>\n",
              "      <td>0</td>\n",
              "      <td>0</td>\n",
              "      <td>0</td>\n",
              "      <td>0</td>\n",
              "      <td>0</td>\n",
              "      <td>0</td>\n",
              "      <td>0</td>\n",
              "      <td>0</td>\n",
              "      <td>0</td>\n",
              "    </tr>\n",
              "  </tbody>\n",
              "</table>\n",
              "<p>5 rows × 785 columns</p>\n",
              "</div>\n",
              "    <div class=\"colab-df-buttons\">\n",
              "\n",
              "  <div class=\"colab-df-container\">\n",
              "    <button class=\"colab-df-convert\" onclick=\"convertToInteractive('df-ef98dda1-0103-4d85-a510-7c626b0a691b')\"\n",
              "            title=\"Convert this dataframe to an interactive table.\"\n",
              "            style=\"display:none;\">\n",
              "\n",
              "  <svg xmlns=\"http://www.w3.org/2000/svg\" height=\"24px\" viewBox=\"0 -960 960 960\">\n",
              "    <path d=\"M120-120v-720h720v720H120Zm60-500h600v-160H180v160Zm220 220h160v-160H400v160Zm0 220h160v-160H400v160ZM180-400h160v-160H180v160Zm440 0h160v-160H620v160ZM180-180h160v-160H180v160Zm440 0h160v-160H620v160Z\"/>\n",
              "  </svg>\n",
              "    </button>\n",
              "\n",
              "  <style>\n",
              "    .colab-df-container {\n",
              "      display:flex;\n",
              "      gap: 12px;\n",
              "    }\n",
              "\n",
              "    .colab-df-convert {\n",
              "      background-color: #E8F0FE;\n",
              "      border: none;\n",
              "      border-radius: 50%;\n",
              "      cursor: pointer;\n",
              "      display: none;\n",
              "      fill: #1967D2;\n",
              "      height: 32px;\n",
              "      padding: 0 0 0 0;\n",
              "      width: 32px;\n",
              "    }\n",
              "\n",
              "    .colab-df-convert:hover {\n",
              "      background-color: #E2EBFA;\n",
              "      box-shadow: 0px 1px 2px rgba(60, 64, 67, 0.3), 0px 1px 3px 1px rgba(60, 64, 67, 0.15);\n",
              "      fill: #174EA6;\n",
              "    }\n",
              "\n",
              "    .colab-df-buttons div {\n",
              "      margin-bottom: 4px;\n",
              "    }\n",
              "\n",
              "    [theme=dark] .colab-df-convert {\n",
              "      background-color: #3B4455;\n",
              "      fill: #D2E3FC;\n",
              "    }\n",
              "\n",
              "    [theme=dark] .colab-df-convert:hover {\n",
              "      background-color: #434B5C;\n",
              "      box-shadow: 0px 1px 3px 1px rgba(0, 0, 0, 0.15);\n",
              "      filter: drop-shadow(0px 1px 2px rgba(0, 0, 0, 0.3));\n",
              "      fill: #FFFFFF;\n",
              "    }\n",
              "  </style>\n",
              "\n",
              "    <script>\n",
              "      const buttonEl =\n",
              "        document.querySelector('#df-ef98dda1-0103-4d85-a510-7c626b0a691b button.colab-df-convert');\n",
              "      buttonEl.style.display =\n",
              "        google.colab.kernel.accessAllowed ? 'block' : 'none';\n",
              "\n",
              "      async function convertToInteractive(key) {\n",
              "        const element = document.querySelector('#df-ef98dda1-0103-4d85-a510-7c626b0a691b');\n",
              "        const dataTable =\n",
              "          await google.colab.kernel.invokeFunction('convertToInteractive',\n",
              "                                                    [key], {});\n",
              "        if (!dataTable) return;\n",
              "\n",
              "        const docLinkHtml = 'Like what you see? Visit the ' +\n",
              "          '<a target=\"_blank\" href=https://colab.research.google.com/notebooks/data_table.ipynb>data table notebook</a>'\n",
              "          + ' to learn more about interactive tables.';\n",
              "        element.innerHTML = '';\n",
              "        dataTable['output_type'] = 'display_data';\n",
              "        await google.colab.output.renderOutput(dataTable, element);\n",
              "        const docLink = document.createElement('div');\n",
              "        docLink.innerHTML = docLinkHtml;\n",
              "        element.appendChild(docLink);\n",
              "      }\n",
              "    </script>\n",
              "  </div>\n",
              "\n",
              "\n",
              "    <div id=\"df-5f44d82f-c126-401a-9c32-59da9568af32\">\n",
              "      <button class=\"colab-df-quickchart\" onclick=\"quickchart('df-5f44d82f-c126-401a-9c32-59da9568af32')\"\n",
              "                title=\"Suggest charts\"\n",
              "                style=\"display:none;\">\n",
              "\n",
              "<svg xmlns=\"http://www.w3.org/2000/svg\" height=\"24px\"viewBox=\"0 0 24 24\"\n",
              "     width=\"24px\">\n",
              "    <g>\n",
              "        <path d=\"M19 3H5c-1.1 0-2 .9-2 2v14c0 1.1.9 2 2 2h14c1.1 0 2-.9 2-2V5c0-1.1-.9-2-2-2zM9 17H7v-7h2v7zm4 0h-2V7h2v10zm4 0h-2v-4h2v4z\"/>\n",
              "    </g>\n",
              "</svg>\n",
              "      </button>\n",
              "\n",
              "<style>\n",
              "  .colab-df-quickchart {\n",
              "      --bg-color: #E8F0FE;\n",
              "      --fill-color: #1967D2;\n",
              "      --hover-bg-color: #E2EBFA;\n",
              "      --hover-fill-color: #174EA6;\n",
              "      --disabled-fill-color: #AAA;\n",
              "      --disabled-bg-color: #DDD;\n",
              "  }\n",
              "\n",
              "  [theme=dark] .colab-df-quickchart {\n",
              "      --bg-color: #3B4455;\n",
              "      --fill-color: #D2E3FC;\n",
              "      --hover-bg-color: #434B5C;\n",
              "      --hover-fill-color: #FFFFFF;\n",
              "      --disabled-bg-color: #3B4455;\n",
              "      --disabled-fill-color: #666;\n",
              "  }\n",
              "\n",
              "  .colab-df-quickchart {\n",
              "    background-color: var(--bg-color);\n",
              "    border: none;\n",
              "    border-radius: 50%;\n",
              "    cursor: pointer;\n",
              "    display: none;\n",
              "    fill: var(--fill-color);\n",
              "    height: 32px;\n",
              "    padding: 0;\n",
              "    width: 32px;\n",
              "  }\n",
              "\n",
              "  .colab-df-quickchart:hover {\n",
              "    background-color: var(--hover-bg-color);\n",
              "    box-shadow: 0 1px 2px rgba(60, 64, 67, 0.3), 0 1px 3px 1px rgba(60, 64, 67, 0.15);\n",
              "    fill: var(--button-hover-fill-color);\n",
              "  }\n",
              "\n",
              "  .colab-df-quickchart-complete:disabled,\n",
              "  .colab-df-quickchart-complete:disabled:hover {\n",
              "    background-color: var(--disabled-bg-color);\n",
              "    fill: var(--disabled-fill-color);\n",
              "    box-shadow: none;\n",
              "  }\n",
              "\n",
              "  .colab-df-spinner {\n",
              "    border: 2px solid var(--fill-color);\n",
              "    border-color: transparent;\n",
              "    border-bottom-color: var(--fill-color);\n",
              "    animation:\n",
              "      spin 1s steps(1) infinite;\n",
              "  }\n",
              "\n",
              "  @keyframes spin {\n",
              "    0% {\n",
              "      border-color: transparent;\n",
              "      border-bottom-color: var(--fill-color);\n",
              "      border-left-color: var(--fill-color);\n",
              "    }\n",
              "    20% {\n",
              "      border-color: transparent;\n",
              "      border-left-color: var(--fill-color);\n",
              "      border-top-color: var(--fill-color);\n",
              "    }\n",
              "    30% {\n",
              "      border-color: transparent;\n",
              "      border-left-color: var(--fill-color);\n",
              "      border-top-color: var(--fill-color);\n",
              "      border-right-color: var(--fill-color);\n",
              "    }\n",
              "    40% {\n",
              "      border-color: transparent;\n",
              "      border-right-color: var(--fill-color);\n",
              "      border-top-color: var(--fill-color);\n",
              "    }\n",
              "    60% {\n",
              "      border-color: transparent;\n",
              "      border-right-color: var(--fill-color);\n",
              "    }\n",
              "    80% {\n",
              "      border-color: transparent;\n",
              "      border-right-color: var(--fill-color);\n",
              "      border-bottom-color: var(--fill-color);\n",
              "    }\n",
              "    90% {\n",
              "      border-color: transparent;\n",
              "      border-bottom-color: var(--fill-color);\n",
              "    }\n",
              "  }\n",
              "</style>\n",
              "\n",
              "      <script>\n",
              "        async function quickchart(key) {\n",
              "          const quickchartButtonEl =\n",
              "            document.querySelector('#' + key + ' button');\n",
              "          quickchartButtonEl.disabled = true;  // To prevent multiple clicks.\n",
              "          quickchartButtonEl.classList.add('colab-df-spinner');\n",
              "          try {\n",
              "            const charts = await google.colab.kernel.invokeFunction(\n",
              "                'suggestCharts', [key], {});\n",
              "          } catch (error) {\n",
              "            console.error('Error during call to suggestCharts:', error);\n",
              "          }\n",
              "          quickchartButtonEl.classList.remove('colab-df-spinner');\n",
              "          quickchartButtonEl.classList.add('colab-df-quickchart-complete');\n",
              "        }\n",
              "        (() => {\n",
              "          let quickchartButtonEl =\n",
              "            document.querySelector('#df-5f44d82f-c126-401a-9c32-59da9568af32 button');\n",
              "          quickchartButtonEl.style.display =\n",
              "            google.colab.kernel.accessAllowed ? 'block' : 'none';\n",
              "        })();\n",
              "      </script>\n",
              "    </div>\n",
              "\n",
              "    </div>\n",
              "  </div>\n"
            ],
            "application/vnd.google.colaboratory.intrinsic+json": {
              "type": "dataframe",
              "variable_name": "train_data"
            }
          },
          "metadata": {},
          "execution_count": 4
        }
      ]
    },
    {
      "cell_type": "code",
      "source": [
        "from sklearn.model_selection import train_test_split\n",
        "X_train, X_val, y_train, y_val = train_test_split(train_data.iloc[:, 1:], train_data[\"label\"], test_size=0.25, train_size=0.75, shuffle=True, stratify=train_data[\"label\"])\n"
      ],
      "metadata": {
        "id": "N4iLI8BNIn-L"
      },
      "execution_count": 5,
      "outputs": []
    },
    {
      "cell_type": "code",
      "source": [
        "# Reset indices\n",
        "X_train = X_train.reset_index()\n",
        "X_val = X_val.reset_index()\n",
        "y_train = y_train.reset_index()\n",
        "y_val = y_val.reset_index()"
      ],
      "metadata": {
        "id": "hqZbcBg1RYkI"
      },
      "execution_count": 6,
      "outputs": []
    },
    {
      "cell_type": "code",
      "source": [
        "X_test = test_data.drop(\"label\", axis=1)\n",
        "y_test = test_data[\"label\"]"
      ],
      "metadata": {
        "id": "w-5dxRXLqGj-"
      },
      "execution_count": 7,
      "outputs": []
    },
    {
      "cell_type": "code",
      "source": [
        "# Drop redundant index columns\n",
        "X_train = X_train.drop(\"index\", axis=1)\n",
        "X_val = X_val.drop(\"index\", axis=1)\n",
        "y_train = y_train.drop(\"index\", axis=1)\n",
        "y_val = y_val.drop(\"index\", axis=1)"
      ],
      "metadata": {
        "id": "zg71Xv6RIbCD"
      },
      "execution_count": 8,
      "outputs": []
    },
    {
      "cell_type": "markdown",
      "source": [
        "## Data Preprocessing\n",
        "\n",
        "Standardize features for training"
      ],
      "metadata": {
        "id": "nq3qAyhyH9Fy"
      }
    },
    {
      "cell_type": "code",
      "source": [
        "from sklearn.preprocessing import StandardScaler\n",
        "standard_scaler = StandardScaler()\n",
        "X_train_scale = standard_scaler.fit_transform(X_train)\n",
        "X_val_scale = standard_scaler.transform(X_val)\n",
        "X_test_scale = standard_scaler.transform(X_test)"
      ],
      "metadata": {
        "id": "_cBi4W5sC6US"
      },
      "execution_count": 9,
      "outputs": []
    },
    {
      "cell_type": "markdown",
      "source": [
        "## Creating Tensor Datasets and Data Loaders"
      ],
      "metadata": {
        "id": "DyJt6-MPIHJu"
      }
    },
    {
      "cell_type": "code",
      "source": [
        "# Create Tensor Datasets\n",
        "from torch.utils.data import TensorDataset, DataLoader\n",
        "train_dataset = TensorDataset(torch.tensor(X_train_scale, dtype=torch.float32), torch.tensor(y_train.values, dtype=torch.long))\n",
        "val_dataset = TensorDataset(torch.tensor(X_val_scale, dtype=torch.float32), torch.tensor(y_val.values, dtype=torch.long))\n",
        "test_dataset = TensorDataset(torch.tensor(X_test_scale, dtype=torch.float32), torch.tensor(y_test.values, dtype=torch.long))"
      ],
      "metadata": {
        "id": "ETAe-iC0F86R"
      },
      "execution_count": 10,
      "outputs": []
    },
    {
      "cell_type": "code",
      "source": [
        "# Create DataLoaders\n",
        "train_dataloader = DataLoader(train_dataset, batch_size=32, shuffle=True)\n",
        "val_dataloader = DataLoader(val_dataset, batch_size=32, shuffle=True)\n",
        "test_dataloader = DataLoader(test_dataset, batch_size=32, shuffle=False)"
      ],
      "metadata": {
        "id": "ui3n5ZQND4H8"
      },
      "execution_count": 11,
      "outputs": []
    },
    {
      "cell_type": "markdown",
      "source": [
        "## Exploratory Data Analysis (EDA)\n",
        "\n",
        "To begin with, check the distribution of classes and the size of the images."
      ],
      "metadata": {
        "id": "ysnExHoQqHF3"
      }
    },
    {
      "cell_type": "code",
      "source": [
        "torch.bincount(train_dataset.tensors[1].squeeze()), len(torch.bincount(train_dataset.tensors[1].squeeze()))"
      ],
      "metadata": {
        "id": "hCcx1b2vqJF-",
        "colab": {
          "base_uri": "https://localhost:8080/"
        },
        "outputId": "16588a1e-c145-4368-c45c-b99fb735e071"
      },
      "execution_count": 12,
      "outputs": [
        {
          "output_type": "execute_result",
          "data": {
            "text/plain": [
              "(tensor([750, 750, 750, 750, 750, 750, 750, 750, 750, 750]), 10)"
            ]
          },
          "metadata": {},
          "execution_count": 12
        }
      ]
    },
    {
      "cell_type": "markdown",
      "source": [
        "The class distributions are entirely even, there are 10 classes and each contains 750 instances."
      ],
      "metadata": {
        "id": "1ndwR293LAvj"
      }
    },
    {
      "cell_type": "code",
      "source": [
        "train_dataset.tensors[0].shape"
      ],
      "metadata": {
        "colab": {
          "base_uri": "https://localhost:8080/"
        },
        "id": "gRnlhOu1LM6u",
        "outputId": "c9a7d47c-c5af-4758-a5b8-88634be6999b"
      },
      "execution_count": 13,
      "outputs": [
        {
          "output_type": "execute_result",
          "data": {
            "text/plain": [
              "torch.Size([7500, 784])"
            ]
          },
          "metadata": {},
          "execution_count": 13
        }
      ]
    },
    {
      "cell_type": "markdown",
      "source": [
        "There are 7500 total instances with 784 features each. Each feature represents a pixel on a 28x28 image. Now, to visualize the images of a few classes."
      ],
      "metadata": {
        "id": "GyyTG_B4MHq6"
      }
    },
    {
      "cell_type": "code",
      "source": [
        "images = train_dataset.tensors[0].reshape(7500, 28, 28)"
      ],
      "metadata": {
        "id": "_zThJVxwP3nr"
      },
      "execution_count": 14,
      "outputs": []
    },
    {
      "cell_type": "code",
      "source": [
        "plt.imshow(images[y_train[y_train[\"label\"]==2].index[4], :, :], cmap=\"grey\")\n",
        "plt.title(\"Pullover\")\n",
        "plt.show()"
      ],
      "metadata": {
        "colab": {
          "base_uri": "https://localhost:8080/",
          "height": 452
        },
        "id": "7GpFnoesQELE",
        "outputId": "949325bf-48f4-4ec9-aa4b-ee71c6ddc8ee"
      },
      "execution_count": 15,
      "outputs": [
        {
          "output_type": "display_data",
          "data": {
            "text/plain": [
              "<Figure size 640x480 with 1 Axes>"
            ],
            "image/png": "[encoded data removed]"
          },
          "metadata": {}
        }
      ]
    },
    {
      "cell_type": "code",
      "source": [
        "class_names = {0:\"T-shirt/top\", 1: \"Trouser\", 2: \"Pullover\", 3: \"Dress\", 4: \"Coat\", 5: \"Sandal\", 6: \"Shirt\", 7: \"Sneaker\", 8: \"Bag\", 9: \"Ankle boot\"}"
      ],
      "metadata": {
        "id": "Pfd0PEmmQbnz"
      },
      "execution_count": 16,
      "outputs": []
    },
    {
      "cell_type": "code",
      "source": [
        "plt.imshow(images[y_train[y_train[\"label\"]==1].index[2], :, :], cmap=\"grey\")\n",
        "plt.title(\"Trouser\")\n",
        "plt.show()"
      ],
      "metadata": {
        "colab": {
          "base_uri": "https://localhost:8080/",
          "height": 452
        },
        "id": "dFJtNfyXVLmB",
        "outputId": "ee507863-4bb7-43c7-f193-19f37fcdb6a2"
      },
      "execution_count": 17,
      "outputs": [
        {
          "output_type": "display_data",
          "data": {
            "text/plain": [
              "<Figure size 640x480 with 1 Axes>"
            ],
            "image/png": "[encoded data removed]"
          },
          "metadata": {}
        }
      ]
    },
    {
      "cell_type": "code",
      "source": [
        "plt.imshow(images[y_train[y_train[\"label\"]==8].index[4], :, :], cmap=\"grey\")\n",
        "plt.title(\"Bag\")\n",
        "plt.show()"
      ],
      "metadata": {
        "colab": {
          "base_uri": "https://localhost:8080/",
          "height": 452
        },
        "id": "yJWdSnBdVP02",
        "outputId": "7e146087-2761-4865-a307-9f4a6bbdf3f0"
      },
      "execution_count": 18,
      "outputs": [
        {
          "output_type": "display_data",
          "data": {
            "text/plain": [
              "<Figure size 640x480 with 1 Axes>"
            ],
            "image/png": "[encoded data removed]"
          },
          "metadata": {}
        }
      ]
    },
    {
      "cell_type": "code",
      "source": [
        "plt.imshow(images[y_train[y_train[\"label\"]==9].index[2], :, :], cmap=\"grey\")\n",
        "plt.title(\"Ankle Boot\")\n",
        "plt.show()"
      ],
      "metadata": {
        "colab": {
          "base_uri": "https://localhost:8080/",
          "height": 452
        },
        "id": "zZc2YWPWVTOa",
        "outputId": "e0a6007b-09ea-4c60-a11a-4c4b28434ec6"
      },
      "execution_count": 19,
      "outputs": [
        {
          "output_type": "display_data",
          "data": {
            "text/plain": [
              "<Figure size 640x480 with 1 Axes>"
            ],
            "image/png": "[encoded data removed]"
          },
          "metadata": {}
        }
      ]
    },
    {
      "cell_type": "markdown",
      "source": [
        "After having visualized a few images of the fashion MNIST training data, it is now possible to proceed to data augmentation, preprocessing, and training."
      ],
      "metadata": {
        "id": "5LRZwQfrVWe7"
      }
    },
    {
      "cell_type": "markdown",
      "source": [
        "## Data Augmentation\n",
        "\n",
        "Common techniques for augmenting images are the following:\n",
        "- tbd"
      ],
      "metadata": {
        "id": "jXykmB68qM4d"
      }
    },
    {
      "cell_type": "code",
      "source": [],
      "metadata": {
        "id": "ZKe43OkyqP2R"
      },
      "execution_count": 19,
      "outputs": []
    },
    {
      "cell_type": "code",
      "source": [],
      "metadata": {
        "id": "-r0UUqB6qLzW"
      },
      "execution_count": 19,
      "outputs": []
    },
    {
      "cell_type": "markdown",
      "source": [
        "## Building the Model, Creating the Training Loop, and Hyperparameter Tuning\n",
        "\n",
        "Builds a class-based model and its training loop, and contains the results of hyperparameter tuning on the validation set."
      ],
      "metadata": {
        "id": "t9qe4wPrqU4b"
      }
    },
    {
      "cell_type": "code",
      "source": [
        "# Model class\n",
        "class NeuralNetwork(nn.Module):\n",
        "  def __init__(self):\n",
        "    super().__init__()\n",
        "    self.fc1 = nn.Linear(784, 16)\n",
        "    self.dropout = nn.Dropout(p=0.2)\n",
        "    self.batchnorm = nn.BatchNorm1d(num_features=784, momentum=0.1)\n",
        "    self.fc2 = nn.Linear(16, 8)\n",
        "    self.fc3 = nn.Linear(8, 10)\n",
        "\n",
        "  def forward(self, x):\n",
        "    x = self.batchnorm(x)\n",
        "    x = self.dropout(x)\n",
        "    x = nn.functional.relu(self.fc1(x))\n",
        "    x = nn.functional.relu(self.fc2(x))\n",
        "    x = self.fc3(x) # CrossEntropy loss already applies softmax\n",
        "\n",
        "    return x"
      ],
      "metadata": {
        "id": "Kj2-uIx8qWMm"
      },
      "execution_count": 20,
      "outputs": []
    },
    {
      "cell_type": "code",
      "source": [
        "import torch.optim as optim\n",
        "# Training loop\n",
        "epochs = 7\n",
        "model = NeuralNetwork()\n",
        "\n",
        "criterion = nn.CrossEntropyLoss()\n",
        "optimizer = optim.Adam(model.parameters(), lr=0.001, weight_decay=0.0001, betas=(0.9, 0.999))\n",
        "\n",
        "for epoch in range(epochs):\n",
        "  epoch_loss = 0\n",
        "  val_epoch_loss = 0\n",
        "  n_correct = 0\n",
        "  n_val_correct = 0\n",
        "  for data in train_dataloader:\n",
        "    # Set gradients to zero\n",
        "    optimizer.zero_grad()\n",
        "\n",
        "    # Gets batches\n",
        "    feature, target = data\n",
        "\n",
        "    # Predictions\n",
        "    preds = model(feature)\n",
        "\n",
        "    # Calculate loss for batch\n",
        "    loss = criterion(preds, target.squeeze())\n",
        "\n",
        "    # Calculating accuracy\n",
        "    preds_labels = torch.argmax(preds, dim=1).reshape(target.shape[0], 1)\n",
        "    values = (preds_labels == target).float()\n",
        "    n_correct += torch.sum(values)\n",
        "\n",
        "    # Backpropagation\n",
        "    loss.backward()\n",
        "\n",
        "    # Update weights\n",
        "    optimizer.step()\n",
        "\n",
        "    epoch_loss += loss\n",
        "\n",
        "  for val_data in val_dataloader:\n",
        "    with torch.no_grad():\n",
        "      val_feature, val_target = val_data\n",
        "\n",
        "      val_preds = model(val_feature)\n",
        "\n",
        "      val_loss = criterion(val_preds, val_target.squeeze())\n",
        "\n",
        "      val_preds_labels = torch.argmax(val_preds, dim=1).reshape(val_target.shape[0], 1)\n",
        "\n",
        "      val_values = (val_preds_labels == val_target).float()\n",
        "\n",
        "      n_val_correct += torch.sum(val_values)\n",
        "\n",
        "      val_epoch_loss += val_loss\n",
        "\n",
        "  model.train()\n",
        "\n",
        "  n_total = 7500\n",
        "  n_val_total = 2500\n",
        "  print(\"The loss for epoch {0} is {1}.\".format(epoch+1, epoch_loss.item() / len(train_dataloader)))\n",
        "  print(\"The accuracy for epoch {0} is {1:.2f}\".format(epoch+1, 100*(n_correct/n_total)))\n",
        "  print(\"The validation loss for epoch {0} is {1}.\".format(epoch+1, val_epoch_loss.item() / len(val_dataloader)))\n",
        "  print(\"The validation accuracy for epoch {0} is {1:.2f}\".format(epoch+1, 100*(n_val_correct/n_val_total)))\n",
        "  print(\"-------------------------------------------------------------\")\n",
        "  print(\"\\n\")\n",
        "\n",
        "  # Calculate validation loss + accuracy\n",
        "  model.eval()\n",
        "\n"
      ],
      "metadata": {
        "colab": {
          "base_uri": "https://localhost:8080/"
        },
        "collapsed": true,
        "id": "lFJb_SFmC-1Q",
        "outputId": "ca468281-1504-40b0-b5d4-702544eea8b1"
      },
      "execution_count": 21,
      "outputs": [
        {
          "output_type": "stream",
          "name": "stdout",
          "text": [
            "The loss for epoch 1 is 1.2401969747340424.\n",
            "The accuracy for epoch 1 is 57.12\n",
            "The validation loss for epoch 1 is 0.7774810791015625.\n",
            "The validation accuracy for epoch 1 is 72.16\n",
            "-------------------------------------------------------------\n",
            "\n",
            "\n",
            "The loss for epoch 2 is 0.6547523011552526.\n",
            "The accuracy for epoch 2 is 78.59\n",
            "The validation loss for epoch 2 is 0.5755842184718651.\n",
            "The validation accuracy for epoch 2 is 78.36\n",
            "-------------------------------------------------------------\n",
            "\n",
            "\n",
            "The loss for epoch 3 is 0.5313457083194814.\n",
            "The accuracy for epoch 3 is 82.24\n",
            "The validation loss for epoch 3 is 0.5110248613961136.\n",
            "The validation accuracy for epoch 3 is 80.92\n",
            "-------------------------------------------------------------\n",
            "\n",
            "\n",
            "The loss for epoch 4 is 0.46517928103183176.\n",
            "The accuracy for epoch 4 is 83.83\n",
            "The validation loss for epoch 4 is 0.48709304423271854.\n",
            "The validation accuracy for epoch 4 is 82.28\n",
            "-------------------------------------------------------------\n",
            "\n",
            "\n",
            "The loss for epoch 5 is 0.4308461290724734.\n",
            "The accuracy for epoch 5 is 84.95\n",
            "The validation loss for epoch 5 is 0.4785520819169057.\n",
            "The validation accuracy for epoch 5 is 82.76\n",
            "-------------------------------------------------------------\n",
            "\n",
            "\n",
            "The loss for epoch 6 is 0.3922167514232879.\n",
            "The accuracy for epoch 6 is 86.61\n",
            "The validation loss for epoch 6 is 0.46857500679885283.\n",
            "The validation accuracy for epoch 6 is 82.84\n",
            "-------------------------------------------------------------\n",
            "\n",
            "\n",
            "The loss for epoch 7 is 0.37517433978141623.\n",
            "The accuracy for epoch 7 is 86.96\n",
            "The validation loss for epoch 7 is 0.46552315241173853.\n",
            "The validation accuracy for epoch 7 is 83.16\n",
            "-------------------------------------------------------------\n",
            "\n",
            "\n"
          ]
        }
      ]
    },
    {
      "cell_type": "markdown",
      "source": [
        "For a feedforward neural network with an input layer, 2 hidden layers with 64 and 32 neurons respectively, and an output layer, a training accuracy of 97-98% was reached after 20 epochs, while the validation accuracy remains between 84-85%. This huge gap between the training and validation accuracy indicates that the model is overfitting the training data.\n",
        "\n",
        "To remedy this, the following strategies will be attempted:\n",
        "- Batch Normalization\n",
        "- Dropout\n",
        "- Weight Decay\n",
        "- Momentum\n",
        "\n",
        "Experimenting with these values did not reduce the validation loss by much, and so the number of layers, neurons per hidden layer, and epochs had to be reduced. The final architecture looked as follows:\n",
        "- **Input layer**: 784 units (flattened 28 x 28)\n",
        "- **Hidden layer**: Linear(784 -> 16), followed by BatchNorm1d (momentum = 0.1), Dropout (p = 0.2) and ReLU activation.\n",
        "- **Hidden layer**: Linear(16 -> 8) with ReLU activation.\n",
        "- **Output layer**: (8 -> 10) with softmax application applied in CrossEntropyLoss function.\n",
        "\n",
        "Training lasted for 7 epochs. The validation accuracy was around 83-84%%, and so decreased marginally, while the training accuracy decreased to around 87-88%, which is huge. The model no longer overfits or does so only slightly based on the gap between the training and validation accuracies."
      ],
      "metadata": {
        "id": "SEvYRYIZTZ7s"
      }
    },
    {
      "cell_type": "markdown",
      "source": [
        "## Test Set Evaluation"
      ],
      "metadata": {
        "id": "ZbK_RhSRqZUR"
      }
    },
    {
      "cell_type": "code",
      "source": [
        "model.eval()\n",
        "total_loss = 0\n",
        "n_correct = 0\n",
        "for data in test_dataloader:\n",
        "  test_feature, test_target = data\n",
        "  test_preds = model(test_feature)\n",
        "  test_loss = criterion(test_preds, test_target.squeeze())\n",
        "  total_loss += test_loss\n",
        "\n",
        "  test_preds_labels = torch.argmax(test_preds, dim=1)\n",
        "  n_correct += torch.sum((test_preds_labels == test_target).float())\n",
        "\n",
        "test_accuracy = n_correct / len(test_dataset)\n",
        "test_loss = total_loss / len(test_dataloader)\n",
        "\n",
        "print(\"The test accuracy is {0:.4f}\".format(test_accuracy*100))\n",
        "print(\"The test loss is {0}\".format(test_loss))"
      ],
      "metadata": {
        "id": "kFc7KYI8qa4h",
        "colab": {
          "base_uri": "https://localhost:8080/"
        },
        "outputId": "1a0fb83f-3ec8-47b1-e264-5f7ef081b957"
      },
      "execution_count": 22,
      "outputs": [
        {
          "output_type": "stream",
          "name": "stdout",
          "text": [
            "The test accuracy is 83.3267\n",
            "The test loss is 0.4762767553329468\n"
          ]
        }
      ]
    },
    {
      "cell_type": "markdown",
      "source": [
        "The test accuracy generally ranges from 82.5-84%, which is standard for a feedforward neural network."
      ],
      "metadata": {
        "id": "HzEegwlxmEBu"
      }
    },
    {
      "cell_type": "markdown",
      "source": [
        "## Other Metrics"
      ],
      "metadata": {
        "id": "SqsiJ1YwqdJk"
      }
    },
    {
      "cell_type": "code",
      "source": [],
      "metadata": {
        "id": "5ZQPsMsAqfyD"
      },
      "execution_count": 22,
      "outputs": []
    },
    {
      "cell_type": "markdown",
      "source": [
        "## Analysis of Model Predictions"
      ],
      "metadata": {
        "id": "w_sxAk5cqgMG"
      }
    },
    {
      "cell_type": "code",
      "source": [],
      "metadata": {
        "id": "sm28vBbpqiTT"
      },
      "execution_count": 22,
      "outputs": []
    },
    {
      "cell_type": "markdown",
      "source": [
        "## Testing of Implementations"
      ],
      "metadata": {
        "id": "66TYn02VqiqL"
      }
    },
    {
      "cell_type": "code",
      "source": [
        "model_implemented = NeuralNetwork()\n",
        "model_implemented.fit(X_train_scale, y_train)"
      ],
      "metadata": {
        "id": "zkVPfjA4qken",
        "colab": {
          "base_uri": "https://localhost:8080/",
          "height": 564
        },
        "outputId": "5db205f8-2274-4012-d8bf-8b3968ebece2"
      },
      "execution_count": 38,
      "outputs": [
        {
          "output_type": "stream",
          "name": "stdout",
          "text": [
            "(32, 1)\n",
            "(32, 64)\n",
            "(1, 64)\n",
            "[[-0.50438125 -0.13060743 -0.36484205 -0.30572248 -0.51823281 -0.57799068\n",
            "  -1.00344382 -0.35844332 -0.54136035 -0.43050752 -0.35669736 -0.55895118\n",
            "  -0.75853532 -0.82040194 -0.41944964 -0.23191517 -0.42649739 -0.42100365\n",
            "  -0.6853129  -0.72094668 -0.56195447 -0.45745296 -0.4839643  -0.29247517\n",
            "  -0.43713623 -0.34753829 -0.30015592 -0.22126002 -0.594506   -0.73914707\n",
            "  -0.39339342 -0.58103502 -0.42171683 -1.27349916 -0.98406831 -0.29695161\n",
            "  -0.52140121 -0.57072483 -0.19192829 -0.39862678 -0.90536111 -0.67731365\n",
            "  -0.25197653 -0.51649619 -1.11528628 -0.28310993 -0.65056191 -1.10726807\n",
            "  -0.50154203 -0.26932114 -0.59992131 -0.51044975 -0.47319354 -0.54578427\n",
            "  -0.15594079 -0.24921873 -0.36675139 -0.3341841  -0.55899067 -0.24427212\n",
            "  -0.43284729 -0.88709447 -0.24199411 -0.48642728]]\n",
            "(1, 64)\n"
          ]
        },
        {
          "output_type": "error",
          "ename": "ValueError",
          "evalue": "operands could not be broadcast together with shapes (64,784) (1,64) ",
          "traceback": [
            "\u001b[0;31m---------------------------------------------------------------------------\u001b[0m",
            "\u001b[0;31mValueError\u001b[0m                                Traceback (most recent call last)",
            "\u001b[0;32m<ipython-input-38-0d6a7bb22312>\u001b[0m in \u001b[0;36m<cell line: 0>\u001b[0;34m()\u001b[0m\n\u001b[1;32m      1\u001b[0m \u001b[0mmodel_implemented\u001b[0m \u001b[0;34m=\u001b[0m \u001b[0mNeuralNetwork\u001b[0m\u001b[0;34m(\u001b[0m\u001b[0;34m)\u001b[0m\u001b[0;34m\u001b[0m\u001b[0;34m\u001b[0m\u001b[0m\n\u001b[0;32m----> 2\u001b[0;31m \u001b[0mmodel_implemented\u001b[0m\u001b[0;34m.\u001b[0m\u001b[0mfit\u001b[0m\u001b[0;34m(\u001b[0m\u001b[0mX_train_scale\u001b[0m\u001b[0;34m,\u001b[0m \u001b[0my_train\u001b[0m\u001b[0;34m)\u001b[0m\u001b[0;34m\u001b[0m\u001b[0;34m\u001b[0m\u001b[0m\n\u001b[0m",
            "\u001b[0;32m<ipython-input-37-6d23a49e1297>\u001b[0m in \u001b[0;36mfit\u001b[0;34m(self, X, T)\u001b[0m\n\u001b[1;32m     92\u001b[0m \u001b[0;34m\u001b[0m\u001b[0m\n\u001b[1;32m     93\u001b[0m         \u001b[0;31m# Gradient descent to update parameters\u001b[0m\u001b[0;34m\u001b[0m\u001b[0;34m\u001b[0m\u001b[0m\n\u001b[0;32m---> 94\u001b[0;31m         \u001b[0mself\u001b[0m\u001b[0;34m.\u001b[0m\u001b[0mgradient_descent\u001b[0m\u001b[0;34m(\u001b[0m\u001b[0mW1_bar\u001b[0m\u001b[0;34m,\u001b[0m \u001b[0mW2_bar\u001b[0m\u001b[0;34m,\u001b[0m \u001b[0mb1_bar\u001b[0m\u001b[0;34m,\u001b[0m \u001b[0mb2_bar\u001b[0m\u001b[0;34m)\u001b[0m\u001b[0;34m\u001b[0m\u001b[0;34m\u001b[0m\u001b[0m\n\u001b[0m\u001b[1;32m     95\u001b[0m \u001b[0;34m\u001b[0m\u001b[0m\n\u001b[1;32m     96\u001b[0m \u001b[0;34m\u001b[0m\u001b[0m\n",
            "\u001b[0;32m<ipython-input-37-6d23a49e1297>\u001b[0m in \u001b[0;36mgradient_descent\u001b[0;34m(self, W1_bar, W2_bar, b1_bar, b2_bar)\u001b[0m\n\u001b[1;32m    145\u001b[0m \u001b[0;34m\u001b[0m\u001b[0m\n\u001b[1;32m    146\u001b[0m   \u001b[0;32mdef\u001b[0m \u001b[0mgradient_descent\u001b[0m\u001b[0;34m(\u001b[0m\u001b[0mself\u001b[0m\u001b[0;34m,\u001b[0m \u001b[0mW1_bar\u001b[0m\u001b[0;34m,\u001b[0m \u001b[0mW2_bar\u001b[0m\u001b[0;34m,\u001b[0m \u001b[0mb1_bar\u001b[0m\u001b[0;34m,\u001b[0m \u001b[0mb2_bar\u001b[0m\u001b[0;34m)\u001b[0m\u001b[0;34m:\u001b[0m\u001b[0;34m\u001b[0m\u001b[0;34m\u001b[0m\u001b[0m\n\u001b[0;32m--> 147\u001b[0;31m     \u001b[0mself\u001b[0m\u001b[0;34m.\u001b[0m\u001b[0mW1\u001b[0m \u001b[0;34m=\u001b[0m \u001b[0mself\u001b[0m\u001b[0;34m.\u001b[0m\u001b[0mW1\u001b[0m \u001b[0;34m-\u001b[0m \u001b[0mself\u001b[0m\u001b[0;34m.\u001b[0m\u001b[0malpha\u001b[0m\u001b[0;34m*\u001b[0m\u001b[0mW1_bar\u001b[0m\u001b[0;34m\u001b[0m\u001b[0;34m\u001b[0m\u001b[0m\n\u001b[0m\u001b[1;32m    148\u001b[0m     \u001b[0mself\u001b[0m\u001b[0;34m.\u001b[0m\u001b[0mW2\u001b[0m \u001b[0;34m=\u001b[0m \u001b[0mself\u001b[0m\u001b[0;34m.\u001b[0m\u001b[0mW2\u001b[0m \u001b[0;34m-\u001b[0m \u001b[0mself\u001b[0m\u001b[0;34m.\u001b[0m\u001b[0malpha\u001b[0m\u001b[0;34m*\u001b[0m\u001b[0mW2_bar\u001b[0m\u001b[0;34m\u001b[0m\u001b[0;34m\u001b[0m\u001b[0m\n\u001b[1;32m    149\u001b[0m     \u001b[0mself\u001b[0m\u001b[0;34m.\u001b[0m\u001b[0mb1\u001b[0m \u001b[0;34m=\u001b[0m \u001b[0mself\u001b[0m\u001b[0;34m.\u001b[0m\u001b[0mb1\u001b[0m \u001b[0;34m-\u001b[0m \u001b[0mself\u001b[0m\u001b[0;34m.\u001b[0m\u001b[0malpha\u001b[0m\u001b[0;34m*\u001b[0m\u001b[0mnp\u001b[0m\u001b[0;34m.\u001b[0m\u001b[0msum\u001b[0m\u001b[0;34m(\u001b[0m\u001b[0mb1_bar\u001b[0m\u001b[0;34m,\u001b[0m \u001b[0maxis\u001b[0m\u001b[0;34m=\u001b[0m\u001b[0;36m0\u001b[0m\u001b[0;34m)\u001b[0m\u001b[0;34m\u001b[0m\u001b[0;34m\u001b[0m\u001b[0m\n",
            "\u001b[0;31mValueError\u001b[0m: operands could not be broadcast together with shapes (64,784) (1,64) "
          ]
        }
      ]
    },
    {
      "cell_type": "code",
      "source": [],
      "metadata": {
        "id": "dj1tdF_3S4ea"
      },
      "execution_count": null,
      "outputs": []
    }
  ]
}