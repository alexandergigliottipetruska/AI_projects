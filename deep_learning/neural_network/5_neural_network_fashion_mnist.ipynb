{
  "nbformat": 4,
  "nbformat_minor": 0,
  "metadata": {
    "colab": {
      "provenance": []
    },
    "kernelspec": {
      "name": "python3",
      "display_name": "Python 3"
    },
    "language_info": {
      "name": "python"
    }
  },
  "cells": [
    {
      "cell_type": "markdown",
      "source": [
        "# Fashion MNIST Neural Network\n",
        "\n",
        "Undertaking a classification task, the aim of this project is to develop skills in building neural networks from scratch and basic image preprocessing. The dataset used is the Fashion MNIST dataset, which requires classifying instances into one of 10 different classes representing different clothing articles.\n",
        "\n",
        "The key learning goals of this project understanding backpropagation, loss, training loop, and gradients. Nevertheless, other features will be added that will develop other skills as well.\n",
        "\n",
        "**Main Objectives**:\n",
        "- <u>Importing the Data</u>\n",
        "- <u>Train/val/test split</u>\n",
        "- <u>Exploratory Data Analysis (EDA) and Visualization</u>\n",
        "- <u>Preprocessing the Data</u>\n",
        "- <u> Creating TensorDatasets and DataLoaders</u>\n",
        "- <u>Building the model</u>\n",
        "- <u>Creating the Training Loop</u>\n",
        "  - <u>Add accuracy metric</u>\n",
        "- <u>Hyperparameter Tuning</u>\n",
        "  - <u>Add new layers (batch normalization, dropout, etc.)</u>\n",
        "- <u>Test set evaluation</u>\n",
        "- <u>Metrics for performance - F1 score, precision, recall, confusion_matrix.</u>\n",
        "- <u>Finding out what kind of images the model's most confident wrong predictions.</u>\n",
        "\n",
        "**Extra**:\n",
        "- <u>Implement a **Neural Network** from scratch.</u>\n",
        "- <u>The network must have 1 input layer, 1 hidden layers, and an output layer.</u>\n",
        "- <u>Implement the forward propagation and backpropagation algorithms.</u>\n",
        "- <u>Use mini-batch gradient descent.</u>\n",
        "- <u>Implement the Adam optimizer and dropout</u>\n",
        "- <u>Regularization with weight decay.</u>\n",
        "- <u>Softmax + Categorical Cross-Entropy</u>\n",
        "- <u>Visualize loss curves</u>\n",
        "- <u>Implement ReLU</u>\n"
      ],
      "metadata": {
        "id": "DRnffAxX96MN"
      }
    },
    {
      "cell_type": "code",
      "source": [
        "import numpy as np\n",
        "import matplotlib.pyplot as plt\n",
        "import torch\n",
        "import torch.nn as nn\n",
        "import seaborn as sns\n",
        "import pandas as pd"
      ],
      "metadata": {
        "id": "KPTKkriF-ESN"
      },
      "execution_count": 34,
      "outputs": []
    },
    {
      "cell_type": "markdown",
      "source": [
        "## Neural Network Implementation\n",
        "\n",
        "The implementation of a non-modular **Neural Network**. This neural network will consist of an input layer, a hidden layers, and an output layer. Forward pass and backpropagation will be based on this model architecture.\n",
        "Mini-batch gradient descent with Adam will be used for optimization, while dropout and weight decay will be used as regularization.\n",
        "\n",
        "Lastly, the softmax and ReLU activation functions have been implemented.\n",
        "\n",
        "###**Forward Propagation and Backpropagation**\n",
        "For a single datapoint, here are the forward propagation and backpropagation algorithms:\n",
        "\n",
        "**Forward Propagation** (datapoint):\n",
        "$$m = W^{(1)}x + b^{(1)}$$\n",
        "$$h = ReLU(m)$$\n",
        "$$z = W^{(2)}h + b^{(2)}$$\n",
        "$$y = softmax(z)$$\n",
        "$$L = L_{CE}(y, t)$$<br>\n",
        "\n",
        "**Backpropagation** (datapoint):\n",
        "$$\\overline{z}=y-t$$\n",
        "$$\\overline{W^{(2)}}=\\overline{z}(h)^T$$\n",
        "$$\\overline{b^{(2)}}=\\overline{z}$$\n",
        "$$\\overline{H}=\\overline{z}W^{(2)}$$\n",
        "$$\\overline{M}=\\overline{h}*ReLU'(m)$$\n",
        "$$\\overline{W^{(1)}}=\\overline{m}(x)^T$$\n",
        "$$\\overline{b^{(1)}}=\\overline{m}$$\n",
        "\n",
        "For a batch, the algorithms are formulated as follows:\n",
        "\n",
        "**Forward Propagation**:\n",
        "$$M = X(W^{(1)})^T+b^{(1)}$$\n",
        "$$H = ReLU(M)$$\n",
        "$$Z = H(W^{(2)})^T+b^{(2)}$$\n",
        "$$Y = softmax(Z)$$\n",
        "$$E = \\frac{1}{N}\\sum_{i}L_{CE}(y^{(i)}, t^{(i)})$$\n",
        "\n",
        "**Backpropagation:**\n",
        "$$\\overline{Z}=\\frac{1}{N}(Y-T)$$\n",
        "$$\\overline{W^{(2)}}=(\\overline{Z})^TH$$\n",
        "$$\\overline{b^{(2)}}=(\\overline{Z})^T1$$\n",
        "$$\\overline{H}=\\overline{Z}W^{(2)}$$\n",
        "$$\\overline{M}=\\overline{H}*ReLU'(M)$$\n",
        "$$\\overline{W^{(1)}}=(\\overline{M})^TX$$\n",
        "$$\\overline{b^{(1)}}=(\\overline{M})^T1$$<br>\n",
        "\n",
        "### **Adam**\n",
        "The **Adam** (Adaptive Moment Estimation) optimizer works by combining the concepts of momentum and RMSprop for more efficient optimization. The momentum term $m_t$ is an exponential weighted moving average of past gradients that is recursively updated and accelerates convergence, preventing the model from being stuck on local minima. High and consistent gradients will cause the larger parameter updates and faster movement in that direction (acceleration). Small and noisy updates cause the updating to become smaller and more cautious. RMSprop also has an exponential weighted moving average, $v_t$, but of squared gradients, overcoming the problem of diminishing learning rates often found in adaptive learning methods. The following formulas are relevant to Adam:\n",
        "\n",
        "**First moment estimate**: $m_t=β_1m_{t-1} + (1-β_1)\\frac{∂L}{∂w_t}$<br>\n",
        "**Second moment estimate**: $v_t=β_2v_{t-1} + (1-β_2)(\\frac{∂L}{∂w_t})^2$\n",
        "\n",
        "Bias correction as $m_t$ and $v_t$ are initialized to 0 and are biased to it. <br>\n",
        "$\\hat{m_t}=\\frac{m_t}{1-β_1^t}$ and $\\hat{v_t}=\\frac{v_t}{1-β_2^t}$\n",
        "\n",
        "The final update rule is (e is a small value to prevent division by 0):\n",
        "$$w_{t+1}=w_t+α\\frac{\\hat{m_t}}{\\sqrt{\\hat{v_t}}+e}$$\n",
        "\n",
        "The advantage of Adam is that each parameter has an adaptive learning rate based on the magnitudes and directions of past gradients, helping to overcome any local minima in the training process.<br>\n",
        "\n",
        "### **Weight Initialization and Gradient Clipping**\n",
        "\n",
        "In order to deal with exploding gradients, the weights need to be initialized correctly depending on the activation functions and the gradients need to be clipped. For weight initialization, if the ReLU activation function is used, He/Kaiming initialization is required for the weights, and. if sigmoid or softmax, Xavier initialization.\n",
        "\n",
        "**Xavier Initialization**:<br>\n",
        "$x = \\sqrt{\\frac{6}{n_{inputs}+n_{outputs}}}$ and W ~ Uniform(-x, x) <br>\n",
        "\n",
        "**He/Kaiming Initialization**:<br>\n",
        "W ~ N(0, $\\sqrt{\\frac{2}{n}}$)\n",
        "\n",
        "For gradient clipping, a norm-based technique was used which checks if the norm of the gradieints is above a certain threshold. If it is, clip those gradients by setting them equal to,\n",
        "$g = threshold*\\frac{g}{\\|g\\|}$\n",
        "\n",
        "This prevents gradients from becoming excessively large. <br>\n",
        "\n",
        "### **Dropout**\n",
        "Dropout is a regularization technique that has a **p** (pre-specified probability) of setting the post-activation outputs of a hidden layer to 0. Dropping out these nodes creates a sub-network of the original network as it prevents co-adaptations, when the units of a layer become too dependent on one another and thus too specialized. Dropout prevents the inter-hidden unit dependencies that develop and forces each hidden unit to become more independent, improving generalization on unseen data.\n",
        "\n",
        "A mask has values randomly sampled from a Bernoulli distribution creates a matrix known as a mask with 0s and 1s corresponding to the hidden units that will be off and on during training. This mask is applied to the hidden layer's post-activation outputs element-wise and is of the same dimension. Afterwards, it is divided by the probability (1-p) chosen earlier, in order to scale the remaining outputs to have the same expected output as if none had been dropped.\n",
        "\n",
        "During evaluation, dropout is turned off and the outputs are instead element-wise multiplied by a mask consisting solely of ones, which does not change them at all.\n",
        "\n",
        "### **Weight Decay**\n",
        "\n",
        "Add an l2-norm of the weights to the loss function and its derivative to the gradient descent in order to penalize large weights and regularize the model. Helps prevent overfitting."
      ],
      "metadata": {
        "id": "hrAkrkEC8MvK"
      }
    },
    {
      "cell_type": "code",
      "source": [
        "class NeuralNetwork():\n",
        "  \"\"\"\n",
        "  This is a custom implementation of a neural network with an input layer, a hidden layers, and an output layer.\n",
        "\n",
        "  Parameters:\n",
        "  - self.dropout: the probability of a neuron in the hidden layer being turned 'off' (its output after activation being set to 0)\n",
        "  - self.learning_rate: adjusts the size of the steps taken during the gradient descent\n",
        "  - self.h: number of units in first hidden layer\n",
        "  - self.lamb: the regularization strength\n",
        "  - self.batch_size: the mini-batch size\n",
        "  - self.epochs: the number of epochs to train for\n",
        "  - self.W1: the weights for the first hidden layer\n",
        "  - self.W2: the weights for the second hidden layer\n",
        "  - self.b1: the bias for the first hidden layer\n",
        "  - self.b2: the bias for the second hidden layer\n",
        "  - self.H: stores the value of the second hidden layer for backprop\n",
        "  - self.M: stores the value of the first hidden layer for backprop\n",
        "  - self.optimizer: whether to use \"Adam\" or \"None\"\n",
        "  - self.B1: first beta parameter for Adam\n",
        "  - self.B2: second beta parameter for Adam\n",
        "  - self.mt: momentum at time step t\n",
        "  - self.vt: rmsprop at time step t\n",
        "  - self.mt_b: bias corrected momentum at time step t\n",
        "  - self.vt_b: bias corrected momentum at time step t\n",
        "  - self.t: current time step t\n",
        "  - self.training_accuracies: training accuracies per epoch\n",
        "  - self.validation_accuracies: validation accuracies per epoch\n",
        "  - self.training_losses: training losses per epoch\n",
        "  - self.validation_losses: validation losses per epoch\n",
        "\n",
        "  \"\"\"\n",
        "  def __init__(self, dropout=0.8, learning_rate=0.01, h1=64, lamb=0.01, batch_size=32, epochs=20, clipping=1.0, B1=0.9, B2=0.999, optimizer=\"None\"):\n",
        "    self.W1 = None\n",
        "    self.W2 = None\n",
        "    self.b1 = None\n",
        "    self.b2 = None\n",
        "    self.batch_size = batch_size\n",
        "    self.p = dropout\n",
        "    self.clipping = clipping\n",
        "    self.alpha = learning_rate\n",
        "    self.lamb = lamb\n",
        "    self.h1 = h1 # no. of units in the hidden layer\n",
        "    self.epochs = epochs\n",
        "    self.H = None # hidden layer\n",
        "    self.M = None # input layer\n",
        "    self.optimizer=optimizer\n",
        "\n",
        "    ## For Adam\n",
        "    # Betas\n",
        "    self.B1 = B1\n",
        "    self.B2 = B2\n",
        "    # Recursive\n",
        "    self.mt = []\n",
        "    self.vt = []\n",
        "\n",
        "    # Bias-corrected\n",
        "    self.mt_b = []\n",
        "    self.vt_b = []\n",
        "\n",
        "    self.t = 0 # current time step\n",
        "\n",
        "    # Accuracies\n",
        "    self.training_accuracies = []\n",
        "    self.validation_accuracies = []\n",
        "\n",
        "    # Losses\n",
        "    self.training_losses = []\n",
        "    self.validation_losses = []\n",
        "\n",
        "  def fit(self, X, T, X_val, T_val):\n",
        "    num_classes = 10\n",
        "    N = X.shape[0]\n",
        "    N_val = X_val.shape[0]\n",
        "\n",
        "    # Convert to numpy\n",
        "    if isinstance(X, pd.DataFrame):\n",
        "      X = X.values\n",
        "    else:\n",
        "      X = X\n",
        "\n",
        "    if isinstance(T, pd.DataFrame):\n",
        "      T = T.values\n",
        "    else:\n",
        "      T = T\n",
        "\n",
        "    if isinstance(X_val, pd.DataFrame):\n",
        "      X_val = X_val.values\n",
        "    else:\n",
        "      X_val = X_val\n",
        "\n",
        "    if isinstance(T_val, pd.DataFrame):\n",
        "      T_val = T_val.values\n",
        "    else:\n",
        "      T_val = T_val\n",
        "\n",
        "    # std for he initialization\n",
        "    c1 = self.he_initialization(X.shape[0])\n",
        "\n",
        "    # constant for xavier initialization\n",
        "    c2 = self.xavier_initialization(self.h1, T.shape[1])\n",
        "\n",
        "    # Weight initialization\n",
        "    self.W1 = np.random.normal(loc=0, scale=c1, size=(self.h1, X.shape[1]))\n",
        "    self.W2 = np.random.uniform(low=-c2, high=c2, size=(num_classes, self.h1))\n",
        "    self.b1 = np.zeros((self.h1, 1)).flatten()\n",
        "    self.b2 = np.zeros((10, 1)).flatten()\n",
        "\n",
        "\n",
        "    for epoch in range(self.epochs):\n",
        "      # Training loop\n",
        "      random_indices = np.random.permutation(N)\n",
        "\n",
        "      X_train_shuffle = X[random_indices]\n",
        "      T_train_shuffle = T[random_indices]\n",
        "\n",
        "      batches = self.mini_batch(T_train_shuffle, X_train_shuffle, N)\n",
        "      total_loss = 0\n",
        "      n_correct = 0\n",
        "\n",
        "      # Get mini-batches for training\n",
        "      for key, value in batches.items():\n",
        "        x_batch = value[0]\n",
        "        t_batch = value[1]\n",
        "\n",
        "        # Forward propagation\n",
        "        z_batch, y_batch = self.forward_prop(x_batch, \"training\")\n",
        "\n",
        "        # One-hot true values\n",
        "        t_ohe_batch = self.one_hot(t_batch)\n",
        "\n",
        "        # For Accuracy\n",
        "        y_batch_preds = np.argmax(y_batch, axis=1)\n",
        "        n_correct += np.sum((y_batch_preds == t_batch.flatten()).astype(np.float64))\n",
        "\n",
        "        # Compute loss\n",
        "        loss = self.compute_loss(y_batch, t_ohe_batch) # pass preds + one-hot targets\n",
        "        total_loss += loss\n",
        "\n",
        "        # Backpropagate loss\n",
        "        grads = self.backpropagation(x_batch, y_batch, t_ohe_batch, loss) # pass preds + one-hot targets\n",
        "\n",
        "        # Clip gradients\n",
        "        W1_bar, W2_bar, b1_bar, b2_bar = self.norm_gradient_clipping(grads)\n",
        "\n",
        "        # Adam (Adaptive Moment Estimation) optimizer\n",
        "        self.Adam_optimizer(W1_bar, W2_bar, b1_bar, b2_bar)\n",
        "\n",
        "        # Gradient descent to update parameters\n",
        "        self.gradient_descent(W1_bar, W2_bar, b1_bar, b2_bar)\n",
        "\n",
        "      # Validation loop\n",
        "      random_indices_val = np.random.permutation(N_val)\n",
        "\n",
        "      X_val_shuffle = X_val[random_indices_val]\n",
        "      T_val_shuffle = T_val[random_indices_val]\n",
        "\n",
        "      val_batches = self.mini_batch(T_val_shuffle, X_val_shuffle, N_val)\n",
        "      total_val_loss = 0\n",
        "      n_val_correct = 0\n",
        "\n",
        "      # Get mini-batches for validation\n",
        "      for key, value in val_batches.items():\n",
        "        x_val_batch = value[0]\n",
        "        t_val_batch = value[1]\n",
        "\n",
        "        # Forward propagation\n",
        "        z_val_batch, y_val_batch = self.forward_prop(x_val_batch, \"evaluation/inference\")\n",
        "\n",
        "        # One-hot true values\n",
        "        t_val_ohe_batch = self.one_hot(t_val_batch)\n",
        "\n",
        "        # For Accuracy\n",
        "        y_val_batch_preds = np.argmax(y_val_batch, axis=1)\n",
        "        n_val_correct += np.sum((y_val_batch_preds == t_val_batch.flatten()).astype(np.float64))\n",
        "\n",
        "        # Compute loss\n",
        "        val_loss = self.compute_loss(y_val_batch, t_val_ohe_batch) # pass preds + one-hot targets\n",
        "        total_val_loss += val_loss\n",
        "\n",
        "      # Calculate epoch accuracy and loss\n",
        "      epoch_accuracy = n_correct / N\n",
        "      epoch_loss = (total_loss / len(batches)).flatten()\n",
        "      val_epoch_accuracy = n_val_correct / N_val\n",
        "      val_epoch_loss = (total_val_loss / len(val_batches)).flatten()\n",
        "      self.training_accuracies.append(epoch_accuracy*100)\n",
        "      self.training_losses.append(epoch_loss[0])\n",
        "      self.validation_accuracies.append(val_epoch_accuracy*100)\n",
        "      self.validation_losses.append(val_epoch_loss[0])\n",
        "\n",
        "      print(\"The training loss at epoch {0} is {1:.4f}\".format(epoch+1, epoch_loss[0]))\n",
        "      print(\"The training accuracy at epoch {0} is {1:.4f}\".format(epoch+1, epoch_accuracy*100))\n",
        "      print(\"The validation loss at epoch {0} is {1:.4f}\".format(epoch+1, val_epoch_loss[0]))\n",
        "      print(\"The validation accuracy at epoch {0} is {1:.4f}\".format(epoch+1, val_epoch_accuracy*100))\n",
        "      print(\"--------------------------------------------------\")\n",
        "\n",
        "  def forward_prop(self, X, mode):\n",
        "    # Forward pass\n",
        "    M = X@(self.W1.T) + self.b1\n",
        "    H = self.relu(M)\n",
        "    r = self.dropout(H, mode)\n",
        "    H = r*H\n",
        "    Z = H@(self.W2.T) + self.b2\n",
        "    Y = self.softmax(Z)\n",
        "\n",
        "    # Store M and H\n",
        "    self.H = H\n",
        "    self.M = M\n",
        "\n",
        "    return Z, Y\n",
        "\n",
        "  def backpropagation(self, X, Y, T, loss):\n",
        "    grads = []\n",
        "    N = X.shape[0]\n",
        "\n",
        "    # Backpropagation\n",
        "    Z_bar = (1/N)*(Y - T)\n",
        "    W2_bar = (Z_bar.T)@self.H\n",
        "    b2_bar = Z_bar\n",
        "    H_bar = (Z_bar)@self.W2\n",
        "    M_bar = H_bar*self.relu_derivative(self.M)\n",
        "    W1_bar = (M_bar.T)@X\n",
        "    b1_bar = M_bar\n",
        "\n",
        "    grads.extend([Z_bar, W2_bar, b2_bar, H_bar, M_bar, W1_bar, b1_bar])\n",
        "\n",
        "    return grads\n",
        "\n",
        "  def norm_gradient_clipping(self, gradients):\n",
        "    clipped = []\n",
        "    for grad in gradients:\n",
        "      norm = np.sqrt(np.sum(grad**2))\n",
        "      if norm >= self.clipping:\n",
        "        grad = self.clipping*grad/norm\n",
        "\n",
        "      clipped.append(grad)\n",
        "\n",
        "    return clipped[5], clipped[1], clipped[6], clipped[2]\n",
        "\n",
        "  def gradient_descent(self, W1_bar, W2_bar, b1_bar, b2_bar):\n",
        "    # without Adam\n",
        "    if self.optimizer == \"None\":\n",
        "      self.W1 = self.W1 - self.alpha*(W1_bar + self.lamb*self.W1) # weight decay, only applied to weights\n",
        "      self.W2 = self.W2 - self.alpha*(W2_bar + self.lamb*self.W2)\n",
        "      self.b1 = self.b1 - self.alpha*np.sum(b1_bar, axis=0)\n",
        "      self.b2 = self.b2 - self.alpha*np.sum(b2_bar, axis=0)\n",
        "\n",
        "    # with Adam\n",
        "    elif self.optimizer == \"Adam\":\n",
        "      self.W1 = self.W1 - self.alpha*(self.mt_b[0]/(np.sqrt(self.vt_b[0]+1e-10)) + self.lamb*self.W1)\n",
        "      self.W2 = self.W2 - self.alpha*(self.mt_b[1]/(np.sqrt(self.vt_b[1]+1e-10)) + self.lamb*self.W2)\n",
        "      self.b1 = self.b1 - self.alpha*self.mt_b[2]/(np.sqrt(self.vt_b[2]+1e-10))\n",
        "      self.b2 = self.b2 - self.alpha*self.mt_b[3]/(np.sqrt(self.vt_b[3]+1e-10))\n",
        "\n",
        "\n",
        "  def one_hot(self, y):\n",
        "    y_ohe = np.zeros(shape=(y.shape[0], 10))\n",
        "    instances_for_indexing = np.arange(y.shape[0])\n",
        "    y_ohe[instances_for_indexing, y.flatten()] = 1\n",
        "    return y_ohe\n",
        "\n",
        "  def compute_loss(self, y, t):\n",
        "    # get N\n",
        "    N = t.shape[0]\n",
        "    y_clipped = np.clip(y, 1e-9, 1-1e-9) # to avoid nan in the loss\n",
        "\n",
        "    # Computes cost - categorical cross-entropy with weight decay\n",
        "    return (- np.sum((t * np.log(y_clipped))) / N) + (self.lamb/2)*(np.sum(self.W2**2) + np.sum(self.W1**2))\n",
        "\n",
        "  def Adam_optimizer(self, W1_bar, W2_bar, b1_bar, b2_bar):\n",
        "    weight_grads = [W1_bar, W2_bar, np.sum(b1_bar, axis=0), np.sum(b2_bar, axis=0)]\n",
        "\n",
        "    self.t += 1 # update time step\n",
        "\n",
        "    if self.mt == [] and self.vt == []:\n",
        "      for i in range(len(weight_grads)):\n",
        "        self.mt.append(np.zeros_like(weight_grads[i]))\n",
        "        self.vt.append(np.zeros_like(weight_grads[i]))\n",
        "        self.mt_b.append(np.zeros_like(weight_grads[i]))\n",
        "        self.vt_b.append(np.zeros_like(weight_grads[i]))\n",
        "\n",
        "    for i in range(len(weight_grads)):\n",
        "      # First moment\n",
        "      self.mt[i] = self.B1*self.mt[i] + (1-self.B1)*weight_grads[i]\n",
        "\n",
        "      # Second moment\n",
        "      self.vt[i] = self.B2*self.vt[i] + (1-self.B2)*(weight_grads[i]**2)\n",
        "\n",
        "      # Bias corrections\n",
        "      self.mt_b[i] = self.mt[i]/(1-self.B1**self.t)\n",
        "      self.vt_b[i] = self.vt[i]/(1-self.B2**self.t)\n",
        "\n",
        "  def xavier_initialization(self, n_inputs, n_outputs):\n",
        "    return np.sqrt(6/(n_inputs+n_outputs))\n",
        "\n",
        "  def he_initialization(self, n_inputs):\n",
        "    return np.sqrt(2/n_inputs)\n",
        "\n",
        "  def predict(self, X_new):\n",
        "    Z, Y = self.forward_prop(X_new, \"evaluation/inference\")\n",
        "    return np.argmax(Y, axis=1)\n",
        "\n",
        "  def test_evaluation(self, X_test, t_test):\n",
        "    if isinstance(X_test, pd.DataFrame):\n",
        "      X_test = X_test.values\n",
        "    else:\n",
        "      X_test = X_test\n",
        "\n",
        "    if isinstance(t_test, pd.DataFrame) or isinstance(t_test, pd.Series):\n",
        "      t_test = t_test.values\n",
        "    else:\n",
        "      t_test = t_test\n",
        "\n",
        "    N = X_test.shape[0]\n",
        "\n",
        "    Z, Y = self.forward_prop(X_test, \"evaluation/inference\")\n",
        "    preds = np.argmax(Y, axis=1)\n",
        "\n",
        "    # One-hot true test values\n",
        "    t_test_ohe = self.one_hot(t_test)\n",
        "\n",
        "    n_correct = np.sum((preds == t_test.flatten()).astype(np.float64))\n",
        "\n",
        "    # Compute test loss\n",
        "    test_loss = self.compute_loss(Y, t_test_ohe)\n",
        "\n",
        "    # Calculate epoch accuracy and loss\n",
        "    test_accuracy= n_correct / N\n",
        "\n",
        "    print(\"The test loss is {0:.4f}\".format(test_loss))\n",
        "    print(\"The test accuracy is {0:.4f}\".format(test_accuracy*100))\n",
        "\n",
        "    return Y, preds\n",
        "\n",
        "  def relu_derivative(self, o):\n",
        "    return np.piecewise(o, [o <= 0, o > 0], [0, 1])\n",
        "\n",
        "  def relu(self, o):\n",
        "    return np.maximum(0, o)\n",
        "\n",
        "  def softmax(self, o):\n",
        "    # To prevent overflow\n",
        "    o_max = np.max(o, axis=1).reshape(-1, 1)\n",
        "    o_shifted = o - o_max\n",
        "\n",
        "    # Softmax function implementation, the keepdims is used for broadcasting purposes.\n",
        "    z =  np.exp(o_shifted) / np.sum(np.exp(o_shifted), axis=1, keepdims=True)\n",
        "    return z\n",
        "\n",
        "  def mini_batch(self, t, X, N):\n",
        "    batches = {}\n",
        "    n_batches = N // self.batch_size\n",
        "    # Create batches\n",
        "    for i in range(n_batches):\n",
        "        batches[i] = [X[i*self.batch_size:(i+1)*self.batch_size], t[i*self.batch_size:(i+1)*self.batch_size]]\n",
        "\n",
        "    # Last batch should be compiled into its own batch, even if it's less than batch size\n",
        "    if N % self.batch_size != 0 :\n",
        "        batches[n_batches] = [X[n_batches*self.batch_size:], t[n_batches*self.batch_size:]]\n",
        "\n",
        "    return batches\n",
        "\n",
        "  def dropout(self, y, mode):\n",
        "    if mode == \"training\":\n",
        "      r = np.random.binomial(n=1, p=self.p, size=(y.shape[0], y.shape[1])).astype(np.float64)\n",
        "      return r/(1-self.p)\n",
        "    elif mode == \"evaluation/inference\":\n",
        "      return np.ones_like(y)\n",
        "\n",
        "  def get_metrics(self):\n",
        "    return self.training_accuracies, self.validation_accuracies, self.training_losses, self.validation_losses"
      ],
      "metadata": {
        "id": "Spl0bU8cAqtZ"
      },
      "execution_count": 35,
      "outputs": []
    },
    {
      "cell_type": "markdown",
      "source": [
        "## Importing the Data"
      ],
      "metadata": {
        "id": "u5GAHLEJqCs3"
      }
    },
    {
      "cell_type": "code",
      "source": [
        "train_data = pd.read_csv(\"/content/drive/MyDrive/Colab Notebooks/Projects/fashion_mnist/fashion-mnist_test.csv\")\n",
        "test_data = pd.read_csv(\"/content/drive/MyDrive/Colab Notebooks/Projects/fashion_mnist/fashion-mnist_train.csv\")"
      ],
      "metadata": {
        "id": "5l6P7TD5qDv-"
      },
      "execution_count": 36,
      "outputs": []
    },
    {
      "cell_type": "code",
      "source": [
        "train_data.head()"
      ],
      "metadata": {
        "colab": {
          "base_uri": "https://localhost:8080/",
          "height": 235
        },
        "id": "2nL0F45mHzVL",
        "outputId": "4fd0d426-c1e6-4c0d-9f01-70da64840f4f"
      },
      "execution_count": 37,
      "outputs": [
        {
          "output_type": "execute_result",
          "data": {
            "text/plain": [
              "   label  pixel1  pixel2  pixel3  pixel4  pixel5  pixel6  pixel7  pixel8  \\\n",
              "0      0       0       0       0       0       0       0       0       9   \n",
              "1      1       0       0       0       0       0       0       0       0   \n",
              "2      2       0       0       0       0       0       0      14      53   \n",
              "3      2       0       0       0       0       0       0       0       0   \n",
              "4      3       0       0       0       0       0       0       0       0   \n",
              "\n",
              "   pixel9  ...  pixel775  pixel776  pixel777  pixel778  pixel779  pixel780  \\\n",
              "0       8  ...       103        87        56         0         0         0   \n",
              "1       0  ...        34         0         0         0         0         0   \n",
              "2      99  ...         0         0         0         0        63        53   \n",
              "3       0  ...       137       126       140         0       133       224   \n",
              "4       0  ...         0         0         0         0         0         0   \n",
              "\n",
              "   pixel781  pixel782  pixel783  pixel784  \n",
              "0         0         0         0         0  \n",
              "1         0         0         0         0  \n",
              "2        31         0         0         0  \n",
              "3       222        56         0         0  \n",
              "4         0         0         0         0  \n",
              "\n",
              "[5 rows x 785 columns]"
            ],
            "text/html": [
              "\n",
              "  <div id=\"df-01394f06-3d2d-469f-936f-72f924be6b27\" class=\"colab-df-container\">\n",
              "    <div>\n",
              "<style scoped>\n",
              "    .dataframe tbody tr th:only-of-type {\n",
              "        vertical-align: middle;\n",
              "    }\n",
              "\n",
              "    .dataframe tbody tr th {\n",
              "        vertical-align: top;\n",
              "    }\n",
              "\n",
              "    .dataframe thead th {\n",
              "        text-align: right;\n",
              "    }\n",
              "</style>\n",
              "<table border=\"1\" class=\"dataframe\">\n",
              "  <thead>\n",
              "    <tr style=\"text-align: right;\">\n",
              "      <th></th>\n",
              "      <th>label</th>\n",
              "      <th>pixel1</th>\n",
              "      <th>pixel2</th>\n",
              "      <th>pixel3</th>\n",
              "      <th>pixel4</th>\n",
              "      <th>pixel5</th>\n",
              "      <th>pixel6</th>\n",
              "      <th>pixel7</th>\n",
              "      <th>pixel8</th>\n",
              "      <th>pixel9</th>\n",
              "      <th>...</th>\n",
              "      <th>pixel775</th>\n",
              "      <th>pixel776</th>\n",
              "      <th>pixel777</th>\n",
              "      <th>pixel778</th>\n",
              "      <th>pixel779</th>\n",
              "      <th>pixel780</th>\n",
              "      <th>pixel781</th>\n",
              "      <th>pixel782</th>\n",
              "      <th>pixel783</th>\n",
              "      <th>pixel784</th>\n",
              "    </tr>\n",
              "  </thead>\n",
              "  <tbody>\n",
              "    <tr>\n",
              "      <th>0</th>\n",
              "      <td>0</td>\n",
              "      <td>0</td>\n",
              "      <td>0</td>\n",
              "      <td>0</td>\n",
              "      <td>0</td>\n",
              "      <td>0</td>\n",
              "      <td>0</td>\n",
              "      <td>0</td>\n",
              "      <td>9</td>\n",
              "      <td>8</td>\n",
              "      <td>...</td>\n",
              "      <td>103</td>\n",
              "      <td>87</td>\n",
              "      <td>56</td>\n",
              "      <td>0</td>\n",
              "      <td>0</td>\n",
              "      <td>0</td>\n",
              "      <td>0</td>\n",
              "      <td>0</td>\n",
              "      <td>0</td>\n",
              "      <td>0</td>\n",
              "    </tr>\n",
              "    <tr>\n",
              "      <th>1</th>\n",
              "      <td>1</td>\n",
              "      <td>0</td>\n",
              "      <td>0</td>\n",
              "      <td>0</td>\n",
              "      <td>0</td>\n",
              "      <td>0</td>\n",
              "      <td>0</td>\n",
              "      <td>0</td>\n",
              "      <td>0</td>\n",
              "      <td>0</td>\n",
              "      <td>...</td>\n",
              "      <td>34</td>\n",
              "      <td>0</td>\n",
              "      <td>0</td>\n",
              "      <td>0</td>\n",
              "      <td>0</td>\n",
              "      <td>0</td>\n",
              "      <td>0</td>\n",
              "      <td>0</td>\n",
              "      <td>0</td>\n",
              "      <td>0</td>\n",
              "    </tr>\n",
              "    <tr>\n",
              "      <th>2</th>\n",
              "      <td>2</td>\n",
              "      <td>0</td>\n",
              "      <td>0</td>\n",
              "      <td>0</td>\n",
              "      <td>0</td>\n",
              "      <td>0</td>\n",
              "      <td>0</td>\n",
              "      <td>14</td>\n",
              "      <td>53</td>\n",
              "      <td>99</td>\n",
              "      <td>...</td>\n",
              "      <td>0</td>\n",
              "      <td>0</td>\n",
              "      <td>0</td>\n",
              "      <td>0</td>\n",
              "      <td>63</td>\n",
              "      <td>53</td>\n",
              "      <td>31</td>\n",
              "      <td>0</td>\n",
              "      <td>0</td>\n",
              "      <td>0</td>\n",
              "    </tr>\n",
              "    <tr>\n",
              "      <th>3</th>\n",
              "      <td>2</td>\n",
              "      <td>0</td>\n",
              "      <td>0</td>\n",
              "      <td>0</td>\n",
              "      <td>0</td>\n",
              "      <td>0</td>\n",
              "      <td>0</td>\n",
              "      <td>0</td>\n",
              "      <td>0</td>\n",
              "      <td>0</td>\n",
              "      <td>...</td>\n",
              "      <td>137</td>\n",
              "      <td>126</td>\n",
              "      <td>140</td>\n",
              "      <td>0</td>\n",
              "      <td>133</td>\n",
              "      <td>224</td>\n",
              "      <td>222</td>\n",
              "      <td>56</td>\n",
              "      <td>0</td>\n",
              "      <td>0</td>\n",
              "    </tr>\n",
              "    <tr>\n",
              "      <th>4</th>\n",
              "      <td>3</td>\n",
              "      <td>0</td>\n",
              "      <td>0</td>\n",
              "      <td>0</td>\n",
              "      <td>0</td>\n",
              "      <td>0</td>\n",
              "      <td>0</td>\n",
              "      <td>0</td>\n",
              "      <td>0</td>\n",
              "      <td>0</td>\n",
              "      <td>...</td>\n",
              "      <td>0</td>\n",
              "      <td>0</td>\n",
              "      <td>0</td>\n",
              "      <td>0</td>\n",
              "      <td>0</td>\n",
              "      <td>0</td>\n",
              "      <td>0</td>\n",
              "      <td>0</td>\n",
              "      <td>0</td>\n",
              "      <td>0</td>\n",
              "    </tr>\n",
              "  </tbody>\n",
              "</table>\n",
              "<p>5 rows × 785 columns</p>\n",
              "</div>\n",
              "    <div class=\"colab-df-buttons\">\n",
              "\n",
              "  <div class=\"colab-df-container\">\n",
              "    <button class=\"colab-df-convert\" onclick=\"convertToInteractive('df-01394f06-3d2d-469f-936f-72f924be6b27')\"\n",
              "            title=\"Convert this dataframe to an interactive table.\"\n",
              "            style=\"display:none;\">\n",
              "\n",
              "  <svg xmlns=\"http://www.w3.org/2000/svg\" height=\"24px\" viewBox=\"0 -960 960 960\">\n",
              "    <path d=\"M120-120v-720h720v720H120Zm60-500h600v-160H180v160Zm220 220h160v-160H400v160Zm0 220h160v-160H400v160ZM180-400h160v-160H180v160Zm440 0h160v-160H620v160ZM180-180h160v-160H180v160Zm440 0h160v-160H620v160Z\"/>\n",
              "  </svg>\n",
              "    </button>\n",
              "\n",
              "  <style>\n",
              "    .colab-df-container {\n",
              "      display:flex;\n",
              "      gap: 12px;\n",
              "    }\n",
              "\n",
              "    .colab-df-convert {\n",
              "      background-color: #E8F0FE;\n",
              "      border: none;\n",
              "      border-radius: 50%;\n",
              "      cursor: pointer;\n",
              "      display: none;\n",
              "      fill: #1967D2;\n",
              "      height: 32px;\n",
              "      padding: 0 0 0 0;\n",
              "      width: 32px;\n",
              "    }\n",
              "\n",
              "    .colab-df-convert:hover {\n",
              "      background-color: #E2EBFA;\n",
              "      box-shadow: 0px 1px 2px rgba(60, 64, 67, 0.3), 0px 1px 3px 1px rgba(60, 64, 67, 0.15);\n",
              "      fill: #174EA6;\n",
              "    }\n",
              "\n",
              "    .colab-df-buttons div {\n",
              "      margin-bottom: 4px;\n",
              "    }\n",
              "\n",
              "    [theme=dark] .colab-df-convert {\n",
              "      background-color: #3B4455;\n",
              "      fill: #D2E3FC;\n",
              "    }\n",
              "\n",
              "    [theme=dark] .colab-df-convert:hover {\n",
              "      background-color: #434B5C;\n",
              "      box-shadow: 0px 1px 3px 1px rgba(0, 0, 0, 0.15);\n",
              "      filter: drop-shadow(0px 1px 2px rgba(0, 0, 0, 0.3));\n",
              "      fill: #FFFFFF;\n",
              "    }\n",
              "  </style>\n",
              "\n",
              "    <script>\n",
              "      const buttonEl =\n",
              "        document.querySelector('#df-01394f06-3d2d-469f-936f-72f924be6b27 button.colab-df-convert');\n",
              "      buttonEl.style.display =\n",
              "        google.colab.kernel.accessAllowed ? 'block' : 'none';\n",
              "\n",
              "      async function convertToInteractive(key) {\n",
              "        const element = document.querySelector('#df-01394f06-3d2d-469f-936f-72f924be6b27');\n",
              "        const dataTable =\n",
              "          await google.colab.kernel.invokeFunction('convertToInteractive',\n",
              "                                                    [key], {});\n",
              "        if (!dataTable) return;\n",
              "\n",
              "        const docLinkHtml = 'Like what you see? Visit the ' +\n",
              "          '<a target=\"_blank\" href=https://colab.research.google.com/notebooks/data_table.ipynb>data table notebook</a>'\n",
              "          + ' to learn more about interactive tables.';\n",
              "        element.innerHTML = '';\n",
              "        dataTable['output_type'] = 'display_data';\n",
              "        await google.colab.output.renderOutput(dataTable, element);\n",
              "        const docLink = document.createElement('div');\n",
              "        docLink.innerHTML = docLinkHtml;\n",
              "        element.appendChild(docLink);\n",
              "      }\n",
              "    </script>\n",
              "  </div>\n",
              "\n",
              "\n",
              "    <div id=\"df-8f2bfa75-c9da-4a81-b463-43e780e4f43d\">\n",
              "      <button class=\"colab-df-quickchart\" onclick=\"quickchart('df-8f2bfa75-c9da-4a81-b463-43e780e4f43d')\"\n",
              "                title=\"Suggest charts\"\n",
              "                style=\"display:none;\">\n",
              "\n",
              "<svg xmlns=\"http://www.w3.org/2000/svg\" height=\"24px\"viewBox=\"0 0 24 24\"\n",
              "     width=\"24px\">\n",
              "    <g>\n",
              "        <path d=\"M19 3H5c-1.1 0-2 .9-2 2v14c0 1.1.9 2 2 2h14c1.1 0 2-.9 2-2V5c0-1.1-.9-2-2-2zM9 17H7v-7h2v7zm4 0h-2V7h2v10zm4 0h-2v-4h2v4z\"/>\n",
              "    </g>\n",
              "</svg>\n",
              "      </button>\n",
              "\n",
              "<style>\n",
              "  .colab-df-quickchart {\n",
              "      --bg-color: #E8F0FE;\n",
              "      --fill-color: #1967D2;\n",
              "      --hover-bg-color: #E2EBFA;\n",
              "      --hover-fill-color: #174EA6;\n",
              "      --disabled-fill-color: #AAA;\n",
              "      --disabled-bg-color: #DDD;\n",
              "  }\n",
              "\n",
              "  [theme=dark] .colab-df-quickchart {\n",
              "      --bg-color: #3B4455;\n",
              "      --fill-color: #D2E3FC;\n",
              "      --hover-bg-color: #434B5C;\n",
              "      --hover-fill-color: #FFFFFF;\n",
              "      --disabled-bg-color: #3B4455;\n",
              "      --disabled-fill-color: #666;\n",
              "  }\n",
              "\n",
              "  .colab-df-quickchart {\n",
              "    background-color: var(--bg-color);\n",
              "    border: none;\n",
              "    border-radius: 50%;\n",
              "    cursor: pointer;\n",
              "    display: none;\n",
              "    fill: var(--fill-color);\n",
              "    height: 32px;\n",
              "    padding: 0;\n",
              "    width: 32px;\n",
              "  }\n",
              "\n",
              "  .colab-df-quickchart:hover {\n",
              "    background-color: var(--hover-bg-color);\n",
              "    box-shadow: 0 1px 2px rgba(60, 64, 67, 0.3), 0 1px 3px 1px rgba(60, 64, 67, 0.15);\n",
              "    fill: var(--button-hover-fill-color);\n",
              "  }\n",
              "\n",
              "  .colab-df-quickchart-complete:disabled,\n",
              "  .colab-df-quickchart-complete:disabled:hover {\n",
              "    background-color: var(--disabled-bg-color);\n",
              "    fill: var(--disabled-fill-color);\n",
              "    box-shadow: none;\n",
              "  }\n",
              "\n",
              "  .colab-df-spinner {\n",
              "    border: 2px solid var(--fill-color);\n",
              "    border-color: transparent;\n",
              "    border-bottom-color: var(--fill-color);\n",
              "    animation:\n",
              "      spin 1s steps(1) infinite;\n",
              "  }\n",
              "\n",
              "  @keyframes spin {\n",
              "    0% {\n",
              "      border-color: transparent;\n",
              "      border-bottom-color: var(--fill-color);\n",
              "      border-left-color: var(--fill-color);\n",
              "    }\n",
              "    20% {\n",
              "      border-color: transparent;\n",
              "      border-left-color: var(--fill-color);\n",
              "      border-top-color: var(--fill-color);\n",
              "    }\n",
              "    30% {\n",
              "      border-color: transparent;\n",
              "      border-left-color: var(--fill-color);\n",
              "      border-top-color: var(--fill-color);\n",
              "      border-right-color: var(--fill-color);\n",
              "    }\n",
              "    40% {\n",
              "      border-color: transparent;\n",
              "      border-right-color: var(--fill-color);\n",
              "      border-top-color: var(--fill-color);\n",
              "    }\n",
              "    60% {\n",
              "      border-color: transparent;\n",
              "      border-right-color: var(--fill-color);\n",
              "    }\n",
              "    80% {\n",
              "      border-color: transparent;\n",
              "      border-right-color: var(--fill-color);\n",
              "      border-bottom-color: var(--fill-color);\n",
              "    }\n",
              "    90% {\n",
              "      border-color: transparent;\n",
              "      border-bottom-color: var(--fill-color);\n",
              "    }\n",
              "  }\n",
              "</style>\n",
              "\n",
              "      <script>\n",
              "        async function quickchart(key) {\n",
              "          const quickchartButtonEl =\n",
              "            document.querySelector('#' + key + ' button');\n",
              "          quickchartButtonEl.disabled = true;  // To prevent multiple clicks.\n",
              "          quickchartButtonEl.classList.add('colab-df-spinner');\n",
              "          try {\n",
              "            const charts = await google.colab.kernel.invokeFunction(\n",
              "                'suggestCharts', [key], {});\n",
              "          } catch (error) {\n",
              "            console.error('Error during call to suggestCharts:', error);\n",
              "          }\n",
              "          quickchartButtonEl.classList.remove('colab-df-spinner');\n",
              "          quickchartButtonEl.classList.add('colab-df-quickchart-complete');\n",
              "        }\n",
              "        (() => {\n",
              "          let quickchartButtonEl =\n",
              "            document.querySelector('#df-8f2bfa75-c9da-4a81-b463-43e780e4f43d button');\n",
              "          quickchartButtonEl.style.display =\n",
              "            google.colab.kernel.accessAllowed ? 'block' : 'none';\n",
              "        })();\n",
              "      </script>\n",
              "    </div>\n",
              "\n",
              "    </div>\n",
              "  </div>\n"
            ],
            "application/vnd.google.colaboratory.intrinsic+json": {
              "type": "dataframe",
              "variable_name": "train_data"
            }
          },
          "metadata": {},
          "execution_count": 37
        }
      ]
    },
    {
      "cell_type": "code",
      "source": [
        "from sklearn.model_selection import train_test_split\n",
        "X_train, X_val, y_train, y_val = train_test_split(train_data.iloc[:, 1:], train_data[\"label\"], test_size=0.25, train_size=0.75, shuffle=True, stratify=train_data[\"label\"])\n"
      ],
      "metadata": {
        "id": "N4iLI8BNIn-L"
      },
      "execution_count": 38,
      "outputs": []
    },
    {
      "cell_type": "code",
      "source": [
        "# Reset indices\n",
        "X_train = X_train.reset_index()\n",
        "X_val = X_val.reset_index()\n",
        "y_train = y_train.reset_index()\n",
        "y_val = y_val.reset_index()"
      ],
      "metadata": {
        "id": "hqZbcBg1RYkI"
      },
      "execution_count": 39,
      "outputs": []
    },
    {
      "cell_type": "code",
      "source": [
        "X_test = test_data.drop(\"label\", axis=1)\n",
        "y_test = test_data[\"label\"]"
      ],
      "metadata": {
        "id": "w-5dxRXLqGj-"
      },
      "execution_count": 40,
      "outputs": []
    },
    {
      "cell_type": "code",
      "source": [
        "# Drop redundant index columns\n",
        "X_train = X_train.drop(\"index\", axis=1)\n",
        "X_val = X_val.drop(\"index\", axis=1)\n",
        "y_train = y_train.drop(\"index\", axis=1)\n",
        "y_val = y_val.drop(\"index\", axis=1)"
      ],
      "metadata": {
        "id": "zg71Xv6RIbCD"
      },
      "execution_count": 41,
      "outputs": []
    },
    {
      "cell_type": "markdown",
      "source": [
        "## Data Preprocessing\n",
        "\n",
        "Standardize features for training"
      ],
      "metadata": {
        "id": "nq3qAyhyH9Fy"
      }
    },
    {
      "cell_type": "code",
      "source": [
        "from sklearn.preprocessing import StandardScaler\n",
        "standard_scaler = StandardScaler()\n",
        "X_train_scale = standard_scaler.fit_transform(X_train)\n",
        "X_val_scale = standard_scaler.transform(X_val)\n",
        "X_test_scale = standard_scaler.transform(X_test)"
      ],
      "metadata": {
        "id": "_cBi4W5sC6US"
      },
      "execution_count": 42,
      "outputs": []
    },
    {
      "cell_type": "markdown",
      "source": [
        "## Creating Tensor Datasets and Data Loaders"
      ],
      "metadata": {
        "id": "DyJt6-MPIHJu"
      }
    },
    {
      "cell_type": "code",
      "source": [
        "# Create Tensor Datasets\n",
        "from torch.utils.data import TensorDataset, DataLoader\n",
        "train_dataset = TensorDataset(torch.tensor(X_train_scale, dtype=torch.float32), torch.tensor(y_train.values, dtype=torch.long))\n",
        "val_dataset = TensorDataset(torch.tensor(X_val_scale, dtype=torch.float32), torch.tensor(y_val.values, dtype=torch.long))\n",
        "test_dataset = TensorDataset(torch.tensor(X_test_scale, dtype=torch.float32), torch.tensor(y_test.values, dtype=torch.long))"
      ],
      "metadata": {
        "id": "ETAe-iC0F86R"
      },
      "execution_count": 43,
      "outputs": []
    },
    {
      "cell_type": "code",
      "source": [
        "# Create DataLoaders\n",
        "train_dataloader = DataLoader(train_dataset, batch_size=32, shuffle=True)\n",
        "val_dataloader = DataLoader(val_dataset, batch_size=32, shuffle=True)\n",
        "test_dataloader = DataLoader(test_dataset, batch_size=32, shuffle=False)"
      ],
      "metadata": {
        "id": "ui3n5ZQND4H8"
      },
      "execution_count": 44,
      "outputs": []
    },
    {
      "cell_type": "markdown",
      "source": [
        "## Exploratory Data Analysis (EDA)\n",
        "\n",
        "To begin with, check the distribution of classes and the size of the images."
      ],
      "metadata": {
        "id": "ysnExHoQqHF3"
      }
    },
    {
      "cell_type": "code",
      "source": [
        "torch.bincount(train_dataset.tensors[1].squeeze()), len(torch.bincount(train_dataset.tensors[1].squeeze()))"
      ],
      "metadata": {
        "id": "hCcx1b2vqJF-",
        "colab": {
          "base_uri": "https://localhost:8080/"
        },
        "outputId": "b164b2b0-f158-47ee-95c8-aee408b2ec93"
      },
      "execution_count": 45,
      "outputs": [
        {
          "output_type": "execute_result",
          "data": {
            "text/plain": [
              "(tensor([750, 750, 750, 750, 750, 750, 750, 750, 750, 750]), 10)"
            ]
          },
          "metadata": {},
          "execution_count": 45
        }
      ]
    },
    {
      "cell_type": "markdown",
      "source": [
        "The class distributions are entirely even, there are 10 classes and each contains 750 instances."
      ],
      "metadata": {
        "id": "1ndwR293LAvj"
      }
    },
    {
      "cell_type": "code",
      "source": [
        "train_dataset.tensors[0].shape"
      ],
      "metadata": {
        "colab": {
          "base_uri": "https://localhost:8080/"
        },
        "id": "gRnlhOu1LM6u",
        "outputId": "7b763bba-7f57-4291-ba73-8840e66f1253"
      },
      "execution_count": 46,
      "outputs": [
        {
          "output_type": "execute_result",
          "data": {
            "text/plain": [
              "torch.Size([7500, 784])"
            ]
          },
          "metadata": {},
          "execution_count": 46
        }
      ]
    },
    {
      "cell_type": "markdown",
      "source": [
        "There are 7500 total instances with 784 features each. Each feature represents a pixel on a 28x28 image. Now, to visualize the images of a few classes."
      ],
      "metadata": {
        "id": "GyyTG_B4MHq6"
      }
    },
    {
      "cell_type": "code",
      "source": [
        "images = train_dataset.tensors[0].reshape(7500, 28, 28)"
      ],
      "metadata": {
        "id": "_zThJVxwP3nr"
      },
      "execution_count": 47,
      "outputs": []
    },
    {
      "cell_type": "code",
      "source": [
        "plt.imshow(images[y_train[y_train[\"label\"]==2].index[4], :, :], cmap=\"grey\")\n",
        "plt.title(\"Pullover\")\n",
        "plt.show()"
      ],
      "metadata": {
        "colab": {
          "base_uri": "https://localhost:8080/",
          "height": 452
        },
        "id": "7GpFnoesQELE",
        "outputId": "2b515f08-3570-4b33-d6a9-0f793858b515"
      },
      "execution_count": 48,
      "outputs": [
        {
          "output_type": "display_data",
          "data": {
            "text/plain": [
              "<Figure size 640x480 with 1 Axes>"
            ],
            "image/png": "[encoded data removed]"
          },
          "metadata": {}
        }
      ]
    },
    {
      "cell_type": "code",
      "source": [
        "class_names = {0:\"T-shirt/top\", 1: \"Trouser\", 2: \"Pullover\", 3: \"Dress\", 4: \"Coat\", 5: \"Sandal\", 6: \"Shirt\", 7: \"Sneaker\", 8: \"Bag\", 9: \"Ankle boot\"}"
      ],
      "metadata": {
        "id": "Pfd0PEmmQbnz"
      },
      "execution_count": 49,
      "outputs": []
    },
    {
      "cell_type": "code",
      "source": [
        "plt.imshow(images[y_train[y_train[\"label\"]==1].index[2], :, :], cmap=\"grey\")\n",
        "plt.title(\"Trouser\")\n",
        "plt.show()"
      ],
      "metadata": {
        "colab": {
          "base_uri": "https://localhost:8080/",
          "height": 452
        },
        "id": "dFJtNfyXVLmB",
        "outputId": "2b514bb9-ed99-4c1a-b4df-4aa8162a1ffc"
      },
      "execution_count": 50,
      "outputs": [
        {
          "output_type": "display_data",
          "data": {
            "text/plain": [
              "<Figure size 640x480 with 1 Axes>"
            ],
            "image/png": "[encoded data removed]"
          },
          "metadata": {}
        }
      ]
    },
    {
      "cell_type": "code",
      "source": [
        "plt.imshow(images[y_train[y_train[\"label\"]==8].index[4], :, :], cmap=\"grey\")\n",
        "plt.title(\"Bag\")\n",
        "plt.show()"
      ],
      "metadata": {
        "colab": {
          "base_uri": "https://localhost:8080/",
          "height": 452
        },
        "id": "yJWdSnBdVP02",
        "outputId": "0f5c8b86-f266-4aaa-cd0f-b09d44c41320"
      },
      "execution_count": 51,
      "outputs": [
        {
          "output_type": "display_data",
          "data": {
            "text/plain": [
              "<Figure size 640x480 with 1 Axes>"
            ],
            "image/png": "[encoded data removed]"
          },
          "metadata": {}
        }
      ]
    },
    {
      "cell_type": "code",
      "source": [
        "plt.imshow(images[y_train[y_train[\"label\"]==9].index[2], :, :], cmap=\"grey\")\n",
        "plt.title(\"Ankle Boot\")\n",
        "plt.show()"
      ],
      "metadata": {
        "colab": {
          "base_uri": "https://localhost:8080/",
          "height": 452
        },
        "id": "zZc2YWPWVTOa",
        "outputId": "26e287c0-ee5d-4ab8-d3c3-98a59a251615"
      },
      "execution_count": 52,
      "outputs": [
        {
          "output_type": "display_data",
          "data": {
            "text/plain": [
              "<Figure size 640x480 with 1 Axes>"
            ],
            "image/png": "[encoded data removed]"
          },
          "metadata": {}
        }
      ]
    },
    {
      "cell_type": "markdown",
      "source": [
        "After having visualized a few images of the fashion MNIST training data, it is now possible to proceed to data augmentation, preprocessing, and training."
      ],
      "metadata": {
        "id": "5LRZwQfrVWe7"
      }
    },
    {
      "cell_type": "markdown",
      "source": [
        "## Building the Model, Creating the Training Loop, and Hyperparameter Tuning\n",
        "\n",
        "Builds a class-based model and its training loop, and contains the results of hyperparameter tuning on the validation set."
      ],
      "metadata": {
        "id": "t9qe4wPrqU4b"
      }
    },
    {
      "cell_type": "code",
      "source": [
        "# Model class\n",
        "class NN(nn.Module):\n",
        "  def __init__(self):\n",
        "    super().__init__()\n",
        "    self.fc1 = nn.Linear(784, 16)\n",
        "    self.dropout = nn.Dropout(p=0.2)\n",
        "    self.batchnorm = nn.BatchNorm1d(num_features=784, momentum=0.1)\n",
        "    self.fc2 = nn.Linear(16, 8)\n",
        "    self.fc3 = nn.Linear(8, 10)\n",
        "\n",
        "  def forward(self, x):\n",
        "    x = self.batchnorm(x)\n",
        "    x = self.dropout(x)\n",
        "    x = nn.functional.relu(self.fc1(x))\n",
        "    x = nn.functional.relu(self.fc2(x))\n",
        "    x = self.fc3(x) # CrossEntropy loss already applies softmax\n",
        "\n",
        "    return x"
      ],
      "metadata": {
        "id": "Kj2-uIx8qWMm"
      },
      "execution_count": 53,
      "outputs": []
    },
    {
      "cell_type": "code",
      "source": [
        "import torch.optim as optim\n",
        "# Training loop\n",
        "epochs = 7\n",
        "model = NN()\n",
        "\n",
        "criterion = nn.CrossEntropyLoss()\n",
        "optimizer = optim.Adam(model.parameters(), lr=0.001, weight_decay=0.0001, betas=(0.9, 0.999))\n",
        "\n",
        "for epoch in range(epochs):\n",
        "  epoch_loss = 0\n",
        "  val_epoch_loss = 0\n",
        "  n_correct = 0\n",
        "  n_val_correct = 0\n",
        "  for data in train_dataloader:\n",
        "    # Set gradients to zero\n",
        "    optimizer.zero_grad()\n",
        "\n",
        "    # Gets batches\n",
        "    feature, target = data\n",
        "\n",
        "    # Predictions\n",
        "    preds = model(feature)\n",
        "\n",
        "    # Calculate loss for batch\n",
        "    loss = criterion(preds, target.squeeze())\n",
        "\n",
        "    # Calculating accuracy\n",
        "    preds_labels = torch.argmax(preds, dim=1).reshape(target.shape[0], 1)\n",
        "    values = (preds_labels == target).float()\n",
        "    n_correct += torch.sum(values)\n",
        "\n",
        "    # Backpropagation\n",
        "    loss.backward()\n",
        "\n",
        "    # Update weights\n",
        "    optimizer.step()\n",
        "\n",
        "    epoch_loss += loss\n",
        "\n",
        "  for val_data in val_dataloader:\n",
        "    with torch.no_grad():\n",
        "      val_feature, val_target = val_data\n",
        "\n",
        "      val_preds = model(val_feature)\n",
        "\n",
        "      val_loss = criterion(val_preds, val_target.squeeze())\n",
        "\n",
        "      val_preds_labels = torch.argmax(val_preds, dim=1).reshape(val_target.shape[0], 1)\n",
        "\n",
        "      val_values = (val_preds_labels == val_target).float()\n",
        "\n",
        "      n_val_correct += torch.sum(val_values)\n",
        "\n",
        "      val_epoch_loss += val_loss\n",
        "\n",
        "  model.train()\n",
        "\n",
        "  n_total = 7500\n",
        "  n_val_total = 2500\n",
        "  print(\"The loss for epoch {0} is {1}.\".format(epoch+1, epoch_loss.item() / len(train_dataloader)))\n",
        "  print(\"The accuracy for epoch {0} is {1:.2f}\".format(epoch+1, 100*(n_correct/n_total)))\n",
        "  print(\"The validation loss for epoch {0} is {1}.\".format(epoch+1, val_epoch_loss.item() / len(val_dataloader)))\n",
        "  print(\"The validation accuracy for epoch {0} is {1:.2f}\".format(epoch+1, 100*(n_val_correct/n_val_total)))\n",
        "  print(\"-------------------------------------------------------------\")\n",
        "  print(\"\\n\")\n",
        "\n",
        "  # Calculate validation loss + accuracy\n",
        "  model.eval()\n",
        "\n"
      ],
      "metadata": {
        "colab": {
          "base_uri": "https://localhost:8080/"
        },
        "collapsed": true,
        "id": "lFJb_SFmC-1Q",
        "outputId": "a4d4379d-66cd-4420-a71f-7bcf45c61f83"
      },
      "execution_count": 54,
      "outputs": [
        {
          "output_type": "stream",
          "name": "stdout",
          "text": [
            "The loss for epoch 1 is 1.2002484260721409.\n",
            "The accuracy for epoch 1 is 57.44\n",
            "The validation loss for epoch 1 is 0.7950474702859227.\n",
            "The validation accuracy for epoch 1 is 70.40\n",
            "-------------------------------------------------------------\n",
            "\n",
            "\n",
            "The loss for epoch 2 is 0.6630704189868684.\n",
            "The accuracy for epoch 2 is 76.23\n",
            "The validation loss for epoch 2 is 0.569724215736872.\n",
            "The validation accuracy for epoch 2 is 79.24\n",
            "-------------------------------------------------------------\n",
            "\n",
            "\n",
            "The loss for epoch 3 is 0.5331245584690825.\n",
            "The accuracy for epoch 3 is 81.36\n",
            "The validation loss for epoch 3 is 0.5227635540539706.\n",
            "The validation accuracy for epoch 3 is 80.68\n",
            "-------------------------------------------------------------\n",
            "\n",
            "\n",
            "The loss for epoch 4 is 0.46899943250290893.\n",
            "The accuracy for epoch 4 is 83.32\n",
            "The validation loss for epoch 4 is 0.4901280463496341.\n",
            "The validation accuracy for epoch 4 is 81.40\n",
            "-------------------------------------------------------------\n",
            "\n",
            "\n",
            "The loss for epoch 5 is 0.4301154928004488.\n",
            "The accuracy for epoch 5 is 84.71\n",
            "The validation loss for epoch 5 is 0.4625988730901404.\n",
            "The validation accuracy for epoch 5 is 83.20\n",
            "-------------------------------------------------------------\n",
            "\n",
            "\n",
            "The loss for epoch 6 is 0.4026845079787234.\n",
            "The accuracy for epoch 6 is 85.76\n",
            "The validation loss for epoch 6 is 0.45190014416658425.\n",
            "The validation accuracy for epoch 6 is 84.08\n",
            "-------------------------------------------------------------\n",
            "\n",
            "\n",
            "The loss for epoch 7 is 0.3770212376371343.\n",
            "The accuracy for epoch 7 is 86.25\n",
            "The validation loss for epoch 7 is 0.45062241373182854.\n",
            "The validation accuracy for epoch 7 is 83.64\n",
            "-------------------------------------------------------------\n",
            "\n",
            "\n"
          ]
        }
      ]
    },
    {
      "cell_type": "markdown",
      "source": [
        "For a feedforward neural network with an input layer, 2 hidden layers with 64 and 32 neurons respectively, and an output layer, a training accuracy of 97-98% was reached after 20 epochs, while the validation accuracy remains between 84-85%. This huge gap between the training and validation accuracy indicates that the model is overfitting the training data.\n",
        "\n",
        "To remedy this, the following strategies will be attempted:\n",
        "- Batch Normalization\n",
        "- Dropout\n",
        "- Weight Decay\n",
        "- Momentum\n",
        "\n",
        "Experimenting with these values did not reduce the validation loss by much, and so the number of layers, neurons per hidden layer, and epochs had to be reduced. The final architecture looked as follows:\n",
        "- **Input layer**: 784 units (flattened 28 x 28)\n",
        "- **Hidden layer**: Linear(784 -> 16), followed by BatchNorm1d (momentum = 0.1), Dropout (p = 0.2) and ReLU activation.\n",
        "- **Hidden layer**: Linear(16 -> 8) with ReLU activation.\n",
        "- **Output layer**: (8 -> 10) with softmax application applied in CrossEntropyLoss function.\n",
        "\n",
        "Training lasted for 7 epochs. The validation accuracy was around 83-84%%, and so decreased marginally, while the training accuracy decreased to around 87-88%, which is huge. The model no longer overfits or does so only slightly based on the gap between the training and validation accuracies."
      ],
      "metadata": {
        "id": "SEvYRYIZTZ7s"
      }
    },
    {
      "cell_type": "markdown",
      "source": [
        "## Test Set Evaluation"
      ],
      "metadata": {
        "id": "ZbK_RhSRqZUR"
      }
    },
    {
      "cell_type": "code",
      "source": [
        "model.eval()\n",
        "total_loss = 0\n",
        "n_correct = 0\n",
        "for data in test_dataloader:\n",
        "  test_feature, test_target = data\n",
        "  test_preds = model(test_feature)\n",
        "  test_loss = criterion(test_preds, test_target.squeeze())\n",
        "  total_loss += test_loss\n",
        "\n",
        "  test_preds_labels = torch.argmax(test_preds, dim=1)\n",
        "  n_correct += torch.sum((test_preds_labels == test_target).float())\n",
        "\n",
        "test_accuracy = n_correct / len(test_dataset)\n",
        "test_loss = total_loss / len(test_dataloader)\n",
        "\n",
        "print(\"The test accuracy is {0:.4f}\".format(test_accuracy*100))\n",
        "print(\"The test loss is {0}\".format(test_loss))"
      ],
      "metadata": {
        "id": "kFc7KYI8qa4h",
        "colab": {
          "base_uri": "https://localhost:8080/"
        },
        "outputId": "5002d032-a777-4943-b206-47c574ff29d0"
      },
      "execution_count": 55,
      "outputs": [
        {
          "output_type": "stream",
          "name": "stdout",
          "text": [
            "The test accuracy is 83.4650\n",
            "The test loss is 0.47498154640197754\n"
          ]
        }
      ]
    },
    {
      "cell_type": "markdown",
      "source": [
        "The test accuracy generally ranges from 82.5-84%, which is standard for a feedforward neural network."
      ],
      "metadata": {
        "id": "HzEegwlxmEBu"
      }
    },
    {
      "cell_type": "markdown",
      "source": [
        "## Testing of Neural Network Implementation"
      ],
      "metadata": {
        "id": "66TYn02VqiqL"
      }
    },
    {
      "cell_type": "code",
      "source": [
        "num_epochs=5\n",
        "model_implemented = NeuralNetwork(optimizer=\"Adam\", learning_rate=0.001, epochs=num_epochs)\n",
        "model_implemented.fit(X_train_scale, y_train, X_val_scale, y_val)"
      ],
      "metadata": {
        "id": "zkVPfjA4qken",
        "colab": {
          "base_uri": "https://localhost:8080/"
        },
        "outputId": "b26c79a1-68ba-4c37-8cb0-203eadbc5257"
      },
      "execution_count": 56,
      "outputs": [
        {
          "output_type": "stream",
          "name": "stdout",
          "text": [
            "The training loss at epoch 1 is 1.4430\n",
            "The training accuracy at epoch 1 is 72.1733\n",
            "The validation loss at epoch 1 is 0.7901\n",
            "The validation accuracy at epoch 1 is 81.8000\n",
            "--------------------------------------------------\n",
            "The training loss at epoch 2 is 1.1689\n",
            "The training accuracy at epoch 2 is 79.3867\n",
            "The validation loss at epoch 2 is 0.7583\n",
            "The validation accuracy at epoch 2 is 83.1600\n",
            "--------------------------------------------------\n",
            "The training loss at epoch 3 is 1.0410\n",
            "The training accuracy at epoch 3 is 82.1867\n",
            "The validation loss at epoch 3 is 0.8010\n",
            "The validation accuracy at epoch 3 is 81.9600\n",
            "--------------------------------------------------\n",
            "The training loss at epoch 4 is 0.9502\n",
            "The training accuracy at epoch 4 is 83.5467\n",
            "The validation loss at epoch 4 is 0.8509\n",
            "The validation accuracy at epoch 4 is 82.0000\n",
            "--------------------------------------------------\n",
            "The training loss at epoch 5 is 0.9029\n",
            "The training accuracy at epoch 5 is 84.8267\n",
            "The validation loss at epoch 5 is 0.8657\n",
            "The validation accuracy at epoch 5 is 84.2800\n",
            "--------------------------------------------------\n"
          ]
        }
      ]
    },
    {
      "cell_type": "code",
      "source": [
        "raw_preds, preds = model_implemented.test_evaluation(X_test_scale, y_test)"
      ],
      "metadata": {
        "id": "dj1tdF_3S4ea",
        "colab": {
          "base_uri": "https://localhost:8080/"
        },
        "outputId": "9ab5fd73-573a-493a-b440-2775f0b2303d"
      },
      "execution_count": 172,
      "outputs": [
        {
          "output_type": "stream",
          "name": "stdout",
          "text": [
            "The test loss is 0.8629\n",
            "The test accuracy is 84.1350\n"
          ]
        }
      ]
    },
    {
      "cell_type": "markdown",
      "source": [
        "The test accuracy is around 83-85%, which is to be expected for an fully-connected neural network on the test set for fashion MNIST."
      ],
      "metadata": {
        "id": "gu3dFuPcHIOg"
      }
    },
    {
      "cell_type": "code",
      "source": [
        "num_epochs=20\n",
        "model_2= NeuralNetwork(optimizer=\"Adam\", learning_rate=0.001, epochs=num_epochs)\n",
        "model_2.fit(X_train_scale, y_train, X_val_scale, y_val)\n",
        "training_accuracies, validation_accuracies, training_losses, validation_losses = model_2.get_metrics()"
      ],
      "metadata": {
        "colab": {
          "base_uri": "https://localhost:8080/"
        },
        "id": "ldjvhFmqHI5h",
        "outputId": "7df7a076-5833-4eac-da23-4f853b7ca203"
      },
      "execution_count": 58,
      "outputs": [
        {
          "output_type": "stream",
          "name": "stdout",
          "text": [
            "The training loss at epoch 1 is 1.5162\n",
            "The training accuracy at epoch 1 is 72.0933\n",
            "The validation loss at epoch 1 is 0.7757\n",
            "The validation accuracy at epoch 1 is 81.9600\n",
            "--------------------------------------------------\n",
            "The training loss at epoch 2 is 1.2499\n",
            "The training accuracy at epoch 2 is 79.0800\n",
            "The validation loss at epoch 2 is 0.7712\n",
            "The validation accuracy at epoch 2 is 81.1200\n",
            "--------------------------------------------------\n",
            "The training loss at epoch 3 is 1.0482\n",
            "The training accuracy at epoch 3 is 82.1867\n",
            "The validation loss at epoch 3 is 0.7880\n",
            "The validation accuracy at epoch 3 is 82.4400\n",
            "--------------------------------------------------\n",
            "The training loss at epoch 4 is 1.0402\n",
            "The training accuracy at epoch 4 is 83.0000\n",
            "The validation loss at epoch 4 is 0.8305\n",
            "The validation accuracy at epoch 4 is 82.4000\n",
            "--------------------------------------------------\n",
            "The training loss at epoch 5 is 0.9728\n",
            "The training accuracy at epoch 5 is 84.2000\n",
            "The validation loss at epoch 5 is 0.8808\n",
            "The validation accuracy at epoch 5 is 83.7200\n",
            "--------------------------------------------------\n",
            "The training loss at epoch 6 is 0.9395\n",
            "The training accuracy at epoch 6 is 85.8800\n",
            "The validation loss at epoch 6 is 0.9172\n",
            "The validation accuracy at epoch 6 is 84.1200\n",
            "--------------------------------------------------\n",
            "The training loss at epoch 7 is 0.9227\n",
            "The training accuracy at epoch 7 is 86.6533\n",
            "The validation loss at epoch 7 is 0.9669\n",
            "The validation accuracy at epoch 7 is 84.6400\n",
            "--------------------------------------------------\n",
            "The training loss at epoch 8 is 0.9342\n",
            "The training accuracy at epoch 8 is 87.8267\n",
            "The validation loss at epoch 8 is 1.0417\n",
            "The validation accuracy at epoch 8 is 84.6800\n",
            "--------------------------------------------------\n",
            "The training loss at epoch 9 is 0.9719\n",
            "The training accuracy at epoch 9 is 87.7600\n",
            "The validation loss at epoch 9 is 1.0822\n",
            "The validation accuracy at epoch 9 is 84.6000\n",
            "--------------------------------------------------\n",
            "The training loss at epoch 10 is 1.0047\n",
            "The training accuracy at epoch 10 is 88.9067\n",
            "The validation loss at epoch 10 is 1.1472\n",
            "The validation accuracy at epoch 10 is 85.2400\n",
            "--------------------------------------------------\n",
            "The training loss at epoch 11 is 1.0776\n",
            "The training accuracy at epoch 11 is 88.3867\n",
            "The validation loss at epoch 11 is 1.2207\n",
            "The validation accuracy at epoch 11 is 84.9200\n",
            "--------------------------------------------------\n",
            "The training loss at epoch 12 is 1.1041\n",
            "The training accuracy at epoch 12 is 89.5600\n",
            "The validation loss at epoch 12 is 1.2958\n",
            "The validation accuracy at epoch 12 is 84.1200\n",
            "--------------------------------------------------\n",
            "The training loss at epoch 13 is 1.1688\n",
            "The training accuracy at epoch 13 is 89.4533\n",
            "The validation loss at epoch 13 is 1.3571\n",
            "The validation accuracy at epoch 13 is 84.6800\n",
            "--------------------------------------------------\n",
            "The training loss at epoch 14 is 1.2318\n",
            "The training accuracy at epoch 14 is 89.8667\n",
            "The validation loss at epoch 14 is 1.4450\n",
            "The validation accuracy at epoch 14 is 82.6800\n",
            "--------------------------------------------------\n",
            "The training loss at epoch 15 is 1.2975\n",
            "The training accuracy at epoch 15 is 89.5867\n",
            "The validation loss at epoch 15 is 1.4976\n",
            "The validation accuracy at epoch 15 is 85.3600\n",
            "--------------------------------------------------\n",
            "The training loss at epoch 16 is 1.3498\n",
            "The training accuracy at epoch 16 is 90.4667\n",
            "The validation loss at epoch 16 is 1.5742\n",
            "The validation accuracy at epoch 16 is 84.6400\n",
            "--------------------------------------------------\n",
            "The training loss at epoch 17 is 1.4348\n",
            "The training accuracy at epoch 17 is 90.4667\n",
            "The validation loss at epoch 17 is 1.6339\n",
            "The validation accuracy at epoch 17 is 85.3600\n",
            "--------------------------------------------------\n",
            "The training loss at epoch 18 is 1.4923\n",
            "The training accuracy at epoch 18 is 90.4000\n",
            "The validation loss at epoch 18 is 1.7189\n",
            "The validation accuracy at epoch 18 is 84.7200\n",
            "--------------------------------------------------\n",
            "The training loss at epoch 19 is 1.5710\n",
            "The training accuracy at epoch 19 is 91.2667\n",
            "The validation loss at epoch 19 is 1.7826\n",
            "The validation accuracy at epoch 19 is 85.4800\n",
            "--------------------------------------------------\n",
            "The training loss at epoch 20 is 1.6216\n",
            "The training accuracy at epoch 20 is 91.6800\n",
            "The validation loss at epoch 20 is 1.8627\n",
            "The validation accuracy at epoch 20 is 85.2000\n",
            "--------------------------------------------------\n"
          ]
        }
      ]
    },
    {
      "cell_type": "code",
      "source": [
        "plt.plot(range(1, num_epochs+1), training_accuracies)\n",
        "plt.plot(range(1, num_epochs+1), validation_accuracies, color=\"red\")\n",
        "plt.title(\"Accuracies\")\n",
        "plt.xlabel(\"Epoch\")\n",
        "plt.ylabel(\"Accuracy\")\n",
        "plt.xticks(range(1, num_epochs+1))\n",
        "plt.legend([\"Training\", \"Validation\"])\n",
        "plt.show()"
      ],
      "metadata": {
        "colab": {
          "base_uri": "https://localhost:8080/",
          "height": 472
        },
        "id": "yUF0sDuNHQet",
        "outputId": "2a90cb7b-7646-4307-c479-8539121a6f3f"
      },
      "execution_count": 59,
      "outputs": [
        {
          "output_type": "display_data",
          "data": {
            "text/plain": [
              "<Figure size 640x480 with 1 Axes>"
            ],
            "image/png": "[encoded data removed]"
          },
          "metadata": {}
        }
      ]
    },
    {
      "cell_type": "markdown",
      "source": [
        "The number of epochs chosen here, 4, is done right before the gap between the the training and validation accuracies. After this point, the model starts to overfit the training data significantly."
      ],
      "metadata": {
        "id": "-5tm_kiDHQ7G"
      }
    },
    {
      "cell_type": "code",
      "source": [
        "plt.plot(range(1, num_epochs+1), training_losses)\n",
        "plt.plot(range(1, num_epochs+1), validation_losses, color=\"red\")\n",
        "plt.title(\"Losses\")\n",
        "plt.xlabel(\"Epoch\")\n",
        "plt.ylabel(\"Loss\")\n",
        "plt.xticks(range(1, num_epochs+1))\n",
        "plt.legend([\"Training\", \"Validation\"])\n",
        "plt.show()"
      ],
      "metadata": {
        "colab": {
          "base_uri": "https://localhost:8080/",
          "height": 472
        },
        "id": "eaF40ebrHVWl",
        "outputId": "8516e05c-5a90-47bf-b58e-fd9272099e51"
      },
      "execution_count": 60,
      "outputs": [
        {
          "output_type": "display_data",
          "data": {
            "text/plain": [
              "<Figure size 640x480 with 1 Axes>"
            ],
            "image/png": "[encoded data removed]"
          },
          "metadata": {}
        }
      ]
    },
    {
      "cell_type": "markdown",
      "source": [
        "The loss also starts to widen at around this point, and increases significantly as the number of epochs go by, both for the training data and the validation data. While the gap is not as large, it is nonetheless clear that the model is overfitting."
      ],
      "metadata": {
        "id": "S6lLfJ4NHfh4"
      }
    },
    {
      "cell_type": "markdown",
      "source": [
        "## Other Metrics"
      ],
      "metadata": {
        "id": "0QX1tO2uJVqv"
      }
    },
    {
      "cell_type": "code",
      "source": [
        "from sklearn.metrics import precision_score, recall_score, f1_score, confusion_matrix\n",
        "\n",
        "precision = precision_score(preds, y_test, average='macro')\n",
        "recall = recall_score(preds, y_test, average='macro')\n",
        "f1 = f1_score(preds, y_test, average='macro')"
      ],
      "metadata": {
        "id": "97zc4v1gJWlZ"
      },
      "execution_count": 61,
      "outputs": []
    },
    {
      "cell_type": "code",
      "source": [
        "print(\"Precision is {0:4f}\".format(precision))\n",
        "print(\"Recall is {0:4f}\".format(recall))\n",
        "print(\"F1-Score is {0:4f}\".format(f1))"
      ],
      "metadata": {
        "colab": {
          "base_uri": "https://localhost:8080/"
        },
        "id": "_cGdzTp_KYWw",
        "outputId": "761ab17d-f13b-4712-c2db-4a359d62662b"
      },
      "execution_count": 62,
      "outputs": [
        {
          "output_type": "stream",
          "name": "stdout",
          "text": [
            "Precision is 0.841350\n",
            "Recall is 0.843925\n",
            "F1-Score is 0.841409\n"
          ]
        }
      ]
    },
    {
      "cell_type": "markdown",
      "source": [
        "The similarity of precision, recall, and f1-score accross all classes indicate a balanced model that is capable of clearly distinguishing the classes and is not biased to any particular class.\n",
        "\n",
        "Now a confusion matrix will be constructed to confirm this."
      ],
      "metadata": {
        "id": "reafYcjdKh-V"
      }
    },
    {
      "cell_type": "code",
      "source": [
        "confusion_matrix(y_test, preds)"
      ],
      "metadata": {
        "colab": {
          "base_uri": "https://localhost:8080/"
        },
        "id": "9AeCstWwKzzc",
        "outputId": "412fc1cc-bb9d-4cdd-8239-9950c316884f"
      },
      "execution_count": 63,
      "outputs": [
        {
          "output_type": "execute_result",
          "data": {
            "text/plain": [
              "array([[4823,    9,  124,  158,   11,    9,  812,    2,   51,    1],\n",
              "       [  38, 5775,   22,  111,    9,    2,   36,    0,    7,    0],\n",
              "       [  95,    6, 4997,   62,  466,   15,  306,    3,   50,    0],\n",
              "       [ 311,   62,   65, 4937,  211,    3,  382,    2,   26,    1],\n",
              "       [  15,   10,  970,  171, 4297,    2,  503,    0,   32,    0],\n",
              "       [   4,    0,    1,    4,    0, 5745,    4,  164,   20,   58],\n",
              "       [ 753,   13,  878,   88,  609,    6, 3563,    3,   87,    0],\n",
              "       [   0,    0,    0,    0,    0,  464,    0, 5303,   13,  220],\n",
              "       [  15,    5,   67,   18,   14,  107,   86,   32, 5652,    4],\n",
              "       [   0,    2,    0,    3,    0,  362,    1,  237,    6, 5389]])"
            ]
          },
          "metadata": {},
          "execution_count": 63
        }
      ]
    },
    {
      "cell_type": "markdown",
      "source": [
        "One interesting insight from this confusion matrix is that the model tends to confuse the first clas (T-shirt/top) with the seventh one (Shirt). This is unsurprising given the similarity of the categories and the images.\n",
        "\n",
        "Here is an example from each class."
      ],
      "metadata": {
        "id": "Q-r2aoCkLFpp"
      }
    },
    {
      "cell_type": "code",
      "source": [
        "plt.imshow(images[y_train[y_train[\"label\"]==0].index[2], :, :], cmap=\"grey\")\n",
        "plt.title(\"T-shirt/top\")\n",
        "plt.show()"
      ],
      "metadata": {
        "colab": {
          "base_uri": "https://localhost:8080/",
          "height": 452
        },
        "id": "bwbNqXpCLVVU",
        "outputId": "ca549016-d2ed-4adb-a3ba-d58a7e4783dc"
      },
      "execution_count": 64,
      "outputs": [
        {
          "output_type": "display_data",
          "data": {
            "text/plain": [
              "<Figure size 640x480 with 1 Axes>"
            ],
            "image/png": "[encoded data removed]"
          },
          "metadata": {}
        }
      ]
    },
    {
      "cell_type": "code",
      "source": [
        "plt.imshow(images[y_train[y_train[\"label\"]==6].index[2], :, :], cmap=\"grey\")\n",
        "plt.title(\"Shirt\")\n",
        "plt.show()"
      ],
      "metadata": {
        "colab": {
          "base_uri": "https://localhost:8080/",
          "height": 452
        },
        "id": "vXgLVfikLuEr",
        "outputId": "57482b18-42ca-4114-d036-9966d0d8461c"
      },
      "execution_count": 65,
      "outputs": [
        {
          "output_type": "display_data",
          "data": {
            "text/plain": [
              "<Figure size 640x480 with 1 Axes>"
            ],
            "image/png": "[encoded data removed]"
          },
          "metadata": {}
        }
      ]
    },
    {
      "cell_type": "markdown",
      "source": [
        "The similarity of the images and classes suggest that either they should be combined into a single category or that clearer examples should be used."
      ],
      "metadata": {
        "id": "qf27d4L8L2s8"
      }
    },
    {
      "cell_type": "markdown",
      "source": [
        "## Analysis of Model Predictions\n",
        "\n",
        "Find the predictions that the model gets wrong but is most confident about getting correct."
      ],
      "metadata": {
        "id": "wHcp1Jd5JcQo"
      }
    },
    {
      "cell_type": "code",
      "source": [
        "# Get raw preds from the model. Get wrong examples with highest preds and correct examples with lowest preds. use raw_preds, preds, y_test\n",
        "incorrect_predictions_indices = np.where(y_test != preds)[0]\n",
        "incorrect_preds_distribution = raw_preds[incorrect_predictions_indices, :]\n",
        "reshaped_preds = preds.reshape(1, -1).T"
      ],
      "metadata": {
        "id": "73IAKJe8JbON"
      },
      "execution_count": 182,
      "outputs": []
    },
    {
      "cell_type": "code",
      "source": [
        "predicted_labels_wrong = preds[incorrect_predictions_indices]"
      ],
      "metadata": {
        "id": "NotMHFfzTh1J"
      },
      "execution_count": 184,
      "outputs": []
    },
    {
      "cell_type": "code",
      "source": [
        "confidences = raw_preds[incorrect_predictions_indices, predicted_labels_wrong]"
      ],
      "metadata": {
        "id": "jMAZpY9JXm7q"
      },
      "execution_count": 186,
      "outputs": []
    },
    {
      "cell_type": "code",
      "source": [
        "most_confident_by_value = np.sort(-confidences)\n",
        "most_confident_by_value"
      ],
      "metadata": {
        "colab": {
          "base_uri": "https://localhost:8080/"
        },
        "id": "ujsjWvwwUMGy",
        "outputId": "431ce4f1-ed54-4854-94fc-88a92b4ecace"
      },
      "execution_count": 189,
      "outputs": [
        {
          "output_type": "execute_result",
          "data": {
            "text/plain": [
              "array([-0.99972853, -0.99951977, -0.99926426, ..., -0.18636886,\n",
              "       -0.18117936, -0.17275291])"
            ]
          },
          "metadata": {},
          "execution_count": 189
        }
      ]
    },
    {
      "cell_type": "code",
      "source": [
        "most_confident_by_index = np.argsort(-confidences)\n",
        "most_confident_wrong_index = incorrect_predictions_indices[most_confident_by_index[0]]"
      ],
      "metadata": {
        "id": "hoJtcnAZYpvd"
      },
      "execution_count": 199,
      "outputs": []
    },
    {
      "cell_type": "code",
      "source": [
        "most_confident_by_index"
      ],
      "metadata": {
        "colab": {
          "base_uri": "https://localhost:8080/"
        },
        "id": "vxGAlU9yYxUN",
        "outputId": "23b0b60a-ea2b-4ec9-93e7-c9da5d4d823b"
      },
      "execution_count": 194,
      "outputs": [
        {
          "output_type": "execute_result",
          "data": {
            "text/plain": [
              "array([9358, 1019, 3732, ..., 8828, 3518, 2959])"
            ]
          },
          "metadata": {},
          "execution_count": 194
        }
      ]
    },
    {
      "cell_type": "code",
      "source": [
        "test_images = test_dataset.tensors[0].reshape(60000, 28, 28)"
      ],
      "metadata": {
        "id": "OaQsQYe4Nz80"
      },
      "execution_count": 192,
      "outputs": []
    },
    {
      "cell_type": "code",
      "source": [
        "plt.imshow(test_images[most_confident_wrong_index, :, :], cmap=\"grey\")\n",
        "\n",
        "plt.title(\"Most Confident Wrong Prediction\")\n",
        "plt.xlabel(\"Predicted: {0}, Predicted Probability: {1:.4f}\".format(class_names[preds[most_confident_wrong_index]], -most_confident_by_value[0]))\n",
        "plt.ylabel(\"True Class: {0}\".format(class_names[y_test[most_confident_wrong_index]]))\n",
        "\n",
        "plt.show()"
      ],
      "metadata": {
        "colab": {
          "base_uri": "https://localhost:8080/",
          "height": 472
        },
        "id": "sJL2SN8eOyIE",
        "outputId": "0920b0d6-57c6-40c0-afc4-2bd93949b88f"
      },
      "execution_count": 209,
      "outputs": [
        {
          "output_type": "display_data",
          "data": {
            "text/plain": [
              "<Figure size 640x480 with 1 Axes>"
            ],
            "image/png": "[encoded data removed]"
          },
          "metadata": {}
        }
      ]
    },
    {
      "cell_type": "code",
      "source": [
        "second_most_confident_wrong_index = incorrect_predictions_indices[most_confident_by_index[1]]"
      ],
      "metadata": {
        "id": "SKRN0xDtZywq"
      },
      "execution_count": 205,
      "outputs": []
    },
    {
      "cell_type": "code",
      "source": [
        "plt.imshow(test_images[second_most_confident_wrong_index, :, :], cmap=\"grey\")\n",
        "\n",
        "plt.title(\"Second Most Confident Wrong Prediction\")\n",
        "plt.xlabel(\"Predicted: {0}, Predicted Probability: {1:.4f}\".format(class_names[preds[second_most_confident_wrong_index]], -most_confident_by_value[1]))\n",
        "plt.ylabel(\"True Class: {0}\".format(class_names[y_test[second_most_confident_wrong_index]]))\n",
        "\n",
        "plt.show()"
      ],
      "metadata": {
        "colab": {
          "base_uri": "https://localhost:8080/",
          "height": 472
        },
        "id": "hS10xutMTvJo",
        "outputId": "a9e66f71-5de2-4d85-b8aa-b20257fb087c"
      },
      "execution_count": 210,
      "outputs": [
        {
          "output_type": "display_data",
          "data": {
            "text/plain": [
              "<Figure size 640x480 with 1 Axes>"
            ],
            "image/png": "[encoded data removed]"
          },
          "metadata": {}
        }
      ]
    },
    {
      "cell_type": "markdown",
      "source": [
        "The two most confident incorrect predictions are of T-shirts that can easily and readily be confused with bags, and so the problem lies in the images that are in the test set in this case, being too confusing for the model to categorize correctly."
      ],
      "metadata": {
        "id": "-_ct3gDSaBip"
      }
    }
  ]
}