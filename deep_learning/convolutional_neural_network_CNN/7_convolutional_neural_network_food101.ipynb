{
  "nbformat": 4,
  "nbformat_minor": 0,
  "metadata": {
    "colab": {
      "provenance": []
    },
    "kernelspec": {
      "name": "python3",
      "display_name": "Python 3"
    },
    "language_info": {
      "name": "python"
    }
  },
  "cells": [
    {
      "cell_type": "markdown",
      "source": [
        "# Food101 Convolutional Neural Network 🍔\n",
        "\n",
        "This image classification task on the Food101 dataset with 101 different classes of food will primarily focus on the implementation of Convolutional Neural Networks (CNNs) and data augmentation. Moreover, a strong theoretical grasp of both the architecture and mechanisms of CNNs, as well as the extension of concepts learnt in the previous project with the normal Neural Network, are the main learning goals of this project. <br>\n",
        "**Main Objectives**:\n",
        "To do **Data Augmentation**\n",
        "\n",
        "**Extra**:\n",
        "To do\n"
      ],
      "metadata": {
        "id": "uKhKKwC8UsR0"
      }
    },
    {
      "cell_type": "code",
      "execution_count": null,
      "metadata": {
        "id": "2G8UrBy5TKzd"
      },
      "outputs": [],
      "source": []
    }
  ]
}